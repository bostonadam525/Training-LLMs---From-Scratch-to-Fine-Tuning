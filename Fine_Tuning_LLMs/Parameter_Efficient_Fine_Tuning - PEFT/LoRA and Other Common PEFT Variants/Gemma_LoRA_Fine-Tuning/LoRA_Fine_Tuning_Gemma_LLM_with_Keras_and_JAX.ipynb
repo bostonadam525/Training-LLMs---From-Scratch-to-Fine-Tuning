{
  "nbformat": 4,
  "nbformat_minor": 0,
  "metadata": {
    "colab": {
      "provenance": [],
      "gpuType": "T4"
    },
    "kernelspec": {
      "name": "python3",
      "display_name": "Python 3"
    },
    "language_info": {
      "name": "python"
    },
    "accelerator": "GPU"
  },
  "cells": [
    {
      "cell_type": "markdown",
      "source": [
        "# LoRA Fine Tuning Gemma LLM with Keras and JAX\n",
        "* Notebook by Adam Lang\n",
        "* Date: 1/18/2025"
      ],
      "metadata": {
        "id": "tidaiauNE8es"
      }
    },
    {
      "cell_type": "markdown",
      "source": [
        "# Overview\n",
        "* In this project I will fine tune the Google Gemma LLM model using LoRA techique in Keras.\n",
        "* Specifically we will use JAX as the backend rather than PyTorch or TensorfFlow\n",
        "\n",
        "# Project Setup\n",
        "1. Go to aistudio.google.com\n",
        "  * Setup API key.\n",
        "\n",
        "2. Go to \"kaggle-gemma\" via google search.\n",
        "  * It will take you to the Google/Gemma page.\n",
        "  * You need to consent to using the model, then you will be granted access to the model.\n",
        "\n",
        "3. Kaggle Access\n",
        "* You will also need to get your KAGGLE_USERNAME and KAGGLE_KEY from your personal kaggle account.\n",
        "* You will need to generate a new KAGGLE token.\n",
        "\n",
        "\n",
        "4. Runtime setup\n",
        "  * T4 GPU is advisable for this on google colab, or if using runpod then consider GPU and PyTorch docker image you need.\n"
      ],
      "metadata": {
        "id": "X9TpDy3IF7QP"
      }
    },
    {
      "cell_type": "markdown",
      "source": [
        "# Setup Environment Variables"
      ],
      "metadata": {
        "id": "R_mL-LLZHADJ"
      }
    },
    {
      "cell_type": "code",
      "execution_count": 18,
      "metadata": {
        "id": "rrEzFGGhEwdz"
      },
      "outputs": [],
      "source": [
        "import os\n",
        "from google.colab import userdata ##colab API\n",
        "\n",
        "## environment variables\n",
        "os.environ['KAGGLE_USERNAME'] = userdata.get('KAGGLE_USERNAME')\n",
        "os.environ['KAGGLE_KEY'] = userdata.get('KAGGLE_KEY')"
      ]
    },
    {
      "cell_type": "markdown",
      "source": [
        "# Install Dependencies\n",
        "* We will need:\n",
        "1. Keras\n",
        "2. KerasNLP --> docs: https://keras.io/getting_started/\n",
        "3. other dependencies"
      ],
      "metadata": {
        "id": "zgXSn-drGX-s"
      }
    },
    {
      "cell_type": "code",
      "source": [
        "## keras installation\n",
        "!pip install -q -U keras-nlp\n",
        "!pip install -q -U keras>=3"
      ],
      "metadata": {
        "id": "KjHQ4ZFuJjAn"
      },
      "execution_count": 19,
      "outputs": []
    },
    {
      "cell_type": "markdown",
      "source": [
        "# Select Backend\n",
        "* Keras is a high-level, multi-framework deep learning API designed for simple and efficient use.\n",
        "* Keras 3 is configured with 3 backend frameworks:\n",
        "1. TensorFlow\n",
        "2. JAX\n",
        "3. PyTorch\n",
        "\n",
        "* We will use JAX as the backend.\n",
        "\n",
        "## Why JAX?\n",
        "* JAX was developed by Google, is an open-source ML framework built on functional programming principles.\n",
        "* JAX stands for **Just Another XLA** where **XLA stands for Accelerated Linear Algebra.**\n",
        "  * JAX is becoming more popular for its numerical computation and automatic differentiation capabilities, which help in the development of many ML algorithms.\n",
        "  \n",
        "  * Although JAX is a relatively new ML framework, it has some helpful features for developing machine learning models.\n",
        "\n",
        "### Features of JAX\n",
        "* JAX can automatically differentiate functions using the **reverse-mode differentiation technique.**\n",
        "  * This helps with seamless calculation of gradients and provides accurate values in training ML models.\n",
        "* **JAX runs on CPU, GPU, and TPU, which provides faster numerical computations.**\n",
        "\n",
        "* **JAX is compatible with NumPy and other Python libraries, making it easier to integrate existing Python codebases.**\n",
        "\n",
        "* JAX uses built-in Just-In-Time (JIT) compilation which results in faster training time for ML models that involve complex computations.\n",
        "\n",
        "* JAX is highly flexible!!!!!!!\n",
        "  * You can create custom neural network architectures using JAX.\n",
        "\n",
        "* JAX offers automatic parallelization and vectorization across multiple devices.\n"
      ],
      "metadata": {
        "id": "T4feQNLmG1xy"
      }
    },
    {
      "cell_type": "code",
      "source": [
        "## setup JAX backend\n",
        "os.environ[\"KERAS_BACKEND\"] = \"jax\" ## or replace with \"torch\" or \"tensorflow\"\n",
        "\n",
        "## to avoid memory fragmentation on JAX backend:\n",
        "os.environ[\"XLA_PYTHON_CLIENT_MEM_FRACTION\"] = \"1.00\""
      ],
      "metadata": {
        "id": "O0nAC78YHJ9_"
      },
      "execution_count": 20,
      "outputs": []
    },
    {
      "cell_type": "markdown",
      "source": [
        "# Import Packages\n",
        "* We need **Keras** and **KerasNLP**."
      ],
      "metadata": {
        "id": "g4uNaWhvJCot"
      }
    },
    {
      "cell_type": "code",
      "source": [
        "import keras\n",
        "import keras_nlp"
      ],
      "metadata": {
        "id": "cILF-5QlJB91"
      },
      "execution_count": 21,
      "outputs": []
    },
    {
      "cell_type": "markdown",
      "source": [
        "# Load Dataset\n",
        "* To finetune a model with GEMMA, you need the data to be in JSON format, but specifically **JSONL** is desired.\n",
        "\n",
        "## What is JSONL?\n",
        "* JSONL or \"JSON Lines\" is a method to store structured data.\n",
        "* Essentially it is a text file where each line contains a single, valid JSON object. * * This data type is very commonly used when fine-tuning a foundational LLM model such as Gemma.\n",
        "\n",
        "1. Key Benefits\n",
        "  * Easy to Read\n",
        "    * Both humans and computers can easily parse JSONL.\n",
        "  * Streaming\n",
        "    Since each line is independent, it’s perfect for processing large datasets one object at a time without loading everything into memory.\n",
        "  * Wide Application\n",
        "    JSONL’s structure and efficiency make it a popular choice for tasks like fine-tuning LLMs.\n",
        "\n",
        "2. Key Points\n",
        "  * Each line represents a complete JSON object.\n",
        "  * Ideal for handling large datasets or streaming data scenarios.\n",
        "  * Commonly used for training and fine-tuning LLMs.\n",
        "\n",
        "3. Data Problems JSONL solves\n",
        "  * a) **Tabular data**\n",
        "    * CSV has no standard encoding, no standard column separator and multiple character escaping standards. String is the only type supported for cell values, so some programs attempt to guess the correct type.\n",
        "    * JSON Lines handles tabular data cleanly and without ambiguity. Cells may use the standard JSON types.\n",
        "\n",
        "  * b) **Self-describing data**\n",
        "    * JSON Lines enables applications to read objects **line-by-line**, with each line fully describing a JSON object.\n",
        "    * The example below contains the same data as tabular data, but allows applications to **split files on newline boundaries for parallel loading, and eliminates any ambiguity if fields are omitted or re-ordered.**\n",
        "\n",
        "```\n",
        "{\"name\": \"Gilbert\", \"session\": \"2013\", \"score\": 24, \"completed\": true}\n",
        "{\"name\": \"Alexa\", \"session\": \"2013\", \"score\": 29, \"completed\": true}\n",
        "{\"name\": \"May\", \"session\": \"2012B\", \"score\": 14, \"completed\": false}\n",
        "{\"name\": \"Deloise\", \"session\": \"2012A\", \"score\": 19, \"completed\": true}\n",
        "```\n",
        "  * c) **Nested Data**\n",
        "    * JSON Lines' biggest strength is in handling lots of similar nested data structures.\n",
        "    * **One `.jsonl` file is easier to work with than a directory full of XML files!!**\n",
        "\n",
        "* Source docs: https://jsonlines.org/"
      ],
      "metadata": {
        "id": "2SivZxClJNAs"
      }
    },
    {
      "cell_type": "markdown",
      "source": [
        "## Dataset info\n",
        "* The dataset used here: `databricks/databricks-dolly-15k`\n",
        "* Dataset card from HF: https://huggingface.co/datasets/databricks/databricks-dolly-15k\n",
        "* This is an open source dataset of instruction-following records generated by thousands of Databricks employees in several of the behavioral categories outlined in the original `InstructGPT paper`, including:\n",
        "\n",
        "  1. brainstorming\n",
        "  2. classification\n",
        "  3. closed QA\n",
        "  4. generation\n",
        "  5. information extraction\n",
        "  6. open QA\n",
        "  7. summarization.\n",
        "\n"
      ],
      "metadata": {
        "id": "BwlxY8KjMDG9"
      }
    },
    {
      "cell_type": "code",
      "source": [
        "!wget --content-disposition 'https://huggingface.co/datasets/databricks/databricks-dolly-15k/resolve/main/databricks-dolly-15k.jsonl' -O databricks-dolly-15k.jsonl"
      ],
      "metadata": {
        "colab": {
          "base_uri": "https://localhost:8080/"
        },
        "id": "v835xStrSEG5",
        "outputId": "ec417c46-00e7-4117-f889-e12af8f3450a"
      },
      "execution_count": 22,
      "outputs": [
        {
          "output_type": "stream",
          "name": "stdout",
          "text": [
            "--2025-01-19 16:18:06--  https://huggingface.co/datasets/databricks/databricks-dolly-15k/resolve/main/databricks-dolly-15k.jsonl\n",
            "Resolving huggingface.co (huggingface.co)... 13.35.202.40, 13.35.202.34, 13.35.202.121, ...\n",
            "Connecting to huggingface.co (huggingface.co)|13.35.202.40|:443... connected.\n",
            "HTTP request sent, awaiting response... 302 Found\n",
            "Location: https://cdn-lfs.hf.co/repos/34/ac/34ac588cc580830664f592597bb6d19d61639eca33dc2d6bb0b6d833f7bfd552/2df9083338b4abd6bceb5635764dab5d833b393b55759dffb0959b6fcbf794ec?response-content-disposition=inline%3B+filename*%3DUTF-8%27%27databricks-dolly-15k.jsonl%3B+filename%3D%22databricks-dolly-15k.jsonl%22%3B&Expires=1737562686&Policy=eyJTdGF0ZW1lbnQiOlt7IkNvbmRpdGlvbiI6eyJEYXRlTGVzc1RoYW4iOnsiQVdTOkVwb2NoVGltZSI6MTczNzU2MjY4Nn19LCJSZXNvdXJjZSI6Imh0dHBzOi8vY2RuLWxmcy5oZi5jby9yZXBvcy8zNC9hYy8zNGFjNTg4Y2M1ODA4MzA2NjRmNTkyNTk3YmI2ZDE5ZDYxNjM5ZWNhMzNkYzJkNmJiMGI2ZDgzM2Y3YmZkNTUyLzJkZjkwODMzMzhiNGFiZDZiY2ViNTYzNTc2NGRhYjVkODMzYjM5M2I1NTc1OWRmZmIwOTU5YjZmY2JmNzk0ZWM%7EcmVzcG9uc2UtY29udGVudC1kaXNwb3NpdGlvbj0qIn1dfQ__&Signature=FtGiWP9U4xoFFs7jlueSwIKSGFiikzr1MZYltQ5mdC3nPtFm98RaOvMZMkJTBwHEpKI1099KYWmZ0W6gpRgoBAo38wlI2YtSSevp69XmjcVLW3uFQPwDwOOLib9bVqf4EVoxLZFzG-28BJuf9-T5XaIcGwobkE%7EGnCwUx29c-ZEzEhvcS%7ETNKh2dCBTrfyDfTExK7sZe%7EY3RvODqKQ2dRyWMoK%7EiilPGdzWVCcBQlCtGOSpB-7lK2NUSTmuJ54r8RpcAm-4MaV0G9zVjE9n3X4OrloFC61PTyK8yDAgEPqArn78IzRC7Tc%7EjfhR1IOHxoOShTSBbjcEy2pA9VzVd2w__&Key-Pair-Id=K3RPWS32NSSJCE [following]\n",
            "--2025-01-19 16:18:06--  https://cdn-lfs.hf.co/repos/34/ac/34ac588cc580830664f592597bb6d19d61639eca33dc2d6bb0b6d833f7bfd552/2df9083338b4abd6bceb5635764dab5d833b393b55759dffb0959b6fcbf794ec?response-content-disposition=inline%3B+filename*%3DUTF-8%27%27databricks-dolly-15k.jsonl%3B+filename%3D%22databricks-dolly-15k.jsonl%22%3B&Expires=1737562686&Policy=eyJTdGF0ZW1lbnQiOlt7IkNvbmRpdGlvbiI6eyJEYXRlTGVzc1RoYW4iOnsiQVdTOkVwb2NoVGltZSI6MTczNzU2MjY4Nn19LCJSZXNvdXJjZSI6Imh0dHBzOi8vY2RuLWxmcy5oZi5jby9yZXBvcy8zNC9hYy8zNGFjNTg4Y2M1ODA4MzA2NjRmNTkyNTk3YmI2ZDE5ZDYxNjM5ZWNhMzNkYzJkNmJiMGI2ZDgzM2Y3YmZkNTUyLzJkZjkwODMzMzhiNGFiZDZiY2ViNTYzNTc2NGRhYjVkODMzYjM5M2I1NTc1OWRmZmIwOTU5YjZmY2JmNzk0ZWM%7EcmVzcG9uc2UtY29udGVudC1kaXNwb3NpdGlvbj0qIn1dfQ__&Signature=FtGiWP9U4xoFFs7jlueSwIKSGFiikzr1MZYltQ5mdC3nPtFm98RaOvMZMkJTBwHEpKI1099KYWmZ0W6gpRgoBAo38wlI2YtSSevp69XmjcVLW3uFQPwDwOOLib9bVqf4EVoxLZFzG-28BJuf9-T5XaIcGwobkE%7EGnCwUx29c-ZEzEhvcS%7ETNKh2dCBTrfyDfTExK7sZe%7EY3RvODqKQ2dRyWMoK%7EiilPGdzWVCcBQlCtGOSpB-7lK2NUSTmuJ54r8RpcAm-4MaV0G9zVjE9n3X4OrloFC61PTyK8yDAgEPqArn78IzRC7Tc%7EjfhR1IOHxoOShTSBbjcEy2pA9VzVd2w__&Key-Pair-Id=K3RPWS32NSSJCE\n",
            "Resolving cdn-lfs.hf.co (cdn-lfs.hf.co)... 18.155.68.34, 18.155.68.37, 18.155.68.85, ...\n",
            "Connecting to cdn-lfs.hf.co (cdn-lfs.hf.co)|18.155.68.34|:443... connected.\n",
            "HTTP request sent, awaiting response... 200 OK\n",
            "Length: 13085339 (12M) [text/plain]\n",
            "Saving to: ‘databricks-dolly-15k.jsonl’\n",
            "\n",
            "databricks-dolly-15 100%[===================>]  12.48M  --.-KB/s    in 0.1s    \n",
            "\n",
            "2025-01-19 16:18:06 (111 MB/s) - ‘databricks-dolly-15k.jsonl’ saved [13085339/13085339]\n",
            "\n"
          ]
        }
      ]
    },
    {
      "cell_type": "markdown",
      "source": [
        "This code below will download the file in html format"
      ],
      "metadata": {
        "id": "wkUExZR4STYP"
      }
    },
    {
      "cell_type": "code",
      "source": [
        "#!rm databricks-dolly-15k.jsonl # Remove the existing file\n",
        "#!wget -O databricks-dolly-15k.jsonl https://huggingface.co/datasets/databricks/databricks-dolly-15k # Re-download the file"
      ],
      "metadata": {
        "id": "sdevuuMKPILw"
      },
      "execution_count": 23,
      "outputs": []
    },
    {
      "cell_type": "markdown",
      "source": [
        "# Pre-Processing Dataset\n",
        "* To work with the dataset we are going to have to parse the file and format it for fine-tuning the LLM.\n",
        "* We will use about 1000 training examples to make this run faster on the GPU and memory that we have, but obviously if you want to have a more accurate model you should use a large sample size."
      ],
      "metadata": {
        "id": "KeN5JUCTNVSY"
      }
    },
    {
      "cell_type": "markdown",
      "source": [
        "## Parsing JSONL data\n",
        "* This approach below is crucial for correctly processing a `.jsonl` file where **each line represents an independent JSON object.**\n",
        "* The key here being that JSONL is a sequence of JSON objects, parsing JSON file usually the entire file is parsed at the same time.\n",
        "* You need to process a JSONL file line by line, parsing each line individually as a JSON object using `json.loads().`\n",
        "  * This is in contrast to parsing a regular JSON file, where you load the entire file content as a single JSON structure.\n",
        "* By parsing each line individually, we ensure that the JSON data is loaded correctly for further use."
      ],
      "metadata": {
        "id": "hxaLKXBGPltE"
      }
    },
    {
      "cell_type": "code",
      "source": [
        "## parse file into json\n",
        "import json\n",
        "\n",
        "data = [] ## store in list\n",
        "with open(\"databricks-dolly-15k.jsonl\") as file:\n",
        "  for line in file:\n",
        "    features = json.loads(line)\n",
        "    # Filter out examples with context to keep simple\n",
        "    if features['context']:\n",
        "      continue\n",
        "    # format entire examples as single string\n",
        "    template = \"Instruction:\\n{instruction}\\n\\nResponse:\\n{response}\"\n",
        "    data.append(template.format(**features))\n",
        "\n",
        "\n",
        "## only use 1000 training examples for fine-tuning\n",
        "data = data[:1000]"
      ],
      "metadata": {
        "id": "XQBUPRzoNoaJ"
      },
      "execution_count": 24,
      "outputs": []
    },
    {
      "cell_type": "code",
      "source": [
        "## view data first 100 index\n",
        "data[0:100]"
      ],
      "metadata": {
        "colab": {
          "base_uri": "https://localhost:8080/"
        },
        "id": "NmSda06cQ8cS",
        "outputId": "dfc12846-77ee-48c8-fbd7-09d09b0420e5"
      },
      "execution_count": 25,
      "outputs": [
        {
          "output_type": "execute_result",
          "data": {
            "text/plain": [
              "['Instruction:\\nWhich is a species of fish? Tope or Rope\\n\\nResponse:\\nTope',\n",
              " 'Instruction:\\nWhy can camels survive for long without water?\\n\\nResponse:\\nCamels use the fat in their humps to keep them filled with energy and hydration for long periods of time.',\n",
              " \"Instruction:\\nAlice's parents have three daughters: Amy, Jessy, and what’s the name of the third daughter?\\n\\nResponse:\\nThe name of the third daughter is Alice\",\n",
              " 'Instruction:\\nWho gave the UN the land in NY to build their HQ\\n\\nResponse:\\nJohn D Rockerfeller',\n",
              " 'Instruction:\\nWhy mobile is bad for human\\n\\nResponse:\\nWe are always engaged one phone which is not good.',\n",
              " 'Instruction:\\nWhat is a polygon?\\n\\nResponse:\\nA polygon is a form in Geometry.  It is a single dimensional plane made of connecting lines and any number of vertices.  It is a closed chain of connected line segments or edges.  The vertices of the polygon are formed where two edges meet.  Examples of polygons are hexagons, pentagons, and octagons.  Any plane that does not contain edges or vertices is not a polygon.  An example of a non-polygon is a circle.',\n",
              " 'Instruction:\\nHow do I start running?\\n\\nResponse:\\nMake sure you get comfortable running shoes and attire. Start with achievable goal in mind like a 5K race. If you never ran before, start gradually from a walk, to brisk walk, light jog aiming for 15-30mins initially. Slowly increase your running time and distance as your fitness level improves. One of the most important things is cool down and gentle stretching. Always listen to your body, and take rest days when needed to prevent injury.',\n",
              " 'Instruction:\\nWhich episodes of season four of Game of Thrones did Michelle MacLaren direct?\\n\\nResponse:\\nShe directed \"Oathkeeper\" and \"First of His Name\" the fourth and fifth episodes of season four, respectively.',\n",
              " 'Instruction:\\nWhat are some unique curtain tie backs that you can make yourself?\\n\\nResponse:\\nThere are many items you can use to make a curtain tie back. Some ideas for this include a chain, a circle and pin, jute rope, wooden beaded rope, a necklack or bracelet, a door knob, a length of a leather belt, macrame rope, or a string of artificial flowers.',\n",
              " 'Instruction:\\nIdentify which instrument is string or percussion: Cantaro, Gudok\\n\\nResponse:\\nGudok is string, Cantaro is percussion.',\n",
              " 'Instruction:\\nGive me the top 5 golf equipment company names.\\n\\nResponse:\\nTitleist, Taylormade, Callaway, Ping, Cobra',\n",
              " 'Instruction:\\nWhat individual has won the most Olympic gold medals in the history of the games?\\n\\nResponse:\\nMichael Phelps has won the most gold medals of all time with 23 golds.',\n",
              " 'Instruction:\\nWhich Dutch artist painted “Girl with a Pearl Earring”?\\n\\nResponse:\\nVermeer',\n",
              " 'Instruction:\\nWhat happens when the sun goes down?\\n\\nResponse:\\nWhen the sun sets, the evening starts.',\n",
              " 'Instruction:\\nWhat is a verb?\\n\\nResponse:\\nA verb is an action word that describes an activity.  Examples of verbs are the following: swimming, hiking, biking, roller skating, or skydiving.  All of these single and combination word examples are tied to an activity that any living thing can do.  For example, a dog can bike ride with a human when the human is pedaling the bike.  Verb use is not limited to humans or people only but applies to all living things.',\n",
              " 'Instruction:\\nWhich of the following is useful for transportation: a glass of wine, a lamp, a train, an iced cube tray, a plane, a bicycle, an apple and a scooter.\\n\\nResponse:\\nThe useful objects for transportation in the list are train, plane, bicyle and scooter.',\n",
              " 'Instruction:\\nIdentify which instrument is string or woodwind: Panduri, Zurna\\n\\nResponse:\\nZurna is woodwind, Panduri is string.',\n",
              " 'Instruction:\\nWho became king of Holland in 1806?\\n\\nResponse:\\nWilliam I of the Netherlands became king of Holland in 1806.',\n",
              " 'Instruction:\\nWhat is best Playstation or Xbox\\n\\nResponse:\\nPlaystation and Xbox are two competing game consoles, where which is \"best\" will depend on the preferences of the gamer.  From a graphics and performance perspective they are comparable, with Sony\\'s Playstation technically leading, though most gamers would be unlikely to notice a significant difference.  From a game library perspective, both consoles have their respective first-party titles that appeal to different demographics.  For example, Microsoft has seen great popularity due to popular title Halo being exclusively available on the console.  On the other hand, Playstation has popular exclusive titles such as God of War and Gran Turismo.  Ultimately the decision of which console is best will likely come down to which games titles the purchaser prefers.',\n",
              " 'Instruction:\\nWho played Billy the Kid in The Left Handed Gun\\n\\nResponse:\\nPaul Newman',\n",
              " 'Instruction:\\nwhy did Syd Barrett left the Pink Floyd?\\n\\nResponse:\\nSyd Barrett was one of the main members of the Pink Floyd. He has used drugs a lot and after a while he was not able to perform with the team. Even though the band gave him multiple chances, he could not keep up with the band. In the end, they had to ask him to leave the band. The main reason that he has left the team is his health problems and addiction to drugs.',\n",
              " 'Instruction:\\nwhat is REST API\\n\\nResponse:\\nREST API is an architectural style for building network APIs. In practice, most REST APIs are using JSON over HTTP. REST APIs have several properties that make them very popular.\\n\\nHTTP is the foundational and the most popular network protocol across the internet. By using HTTP, REST APIs can fully utilize the internet infrastructure, which greatly reduce the complexity and operational costs. For example, using HTTPS for transport security, and using URL for request routing.\\n\\nJSON is a simple, stable, and intuitive data format , which is not expected to change ever. This offers great ease of use and stability to REST APIs. For high performance applications, binary formats can be used instead, such as protobuf or thrift.\\n\\nREST APIs are often designed as CRUD APIs, where API operations are commonly expressed as Create, Retrieve, Update, and Delete operations on resources. CRUD operations are naturally mapped to HTTP methods (POST, GET, PUT/PATCH, and DELETE), and API resources can be naturally identified using URLs.',\n",
              " 'Instruction:\\nWhat is underwriting?\\n\\nResponse:\\nUnderwriting (UW) services are provided by some large financial institutions, such as banks, insurance companies and investment houses, whereby they guarantee payment in case of damage or financial loss and accept the financial risk for liability arising from such guarantee. An underwriting arrangement may be created in a number of situations including insurance, issues of security in a public offering, and bank lending, among others. The person or institution that agrees to sell a minimum number of securities of the company for commission is called the underwriter.\\n\\nThe term \"underwriting\" derives from the Lloyd\\'s of London insurance market. Financial backers (or risk takers), who would accept some of the risk on a given venture (historically a sea voyage with associated risks of shipwreck) in exchange for a premium, would literally write their names under the risk information that was written on a Lloyd\\'s slip created for this purpose.',\n",
              " 'Instruction:\\nGive me a list of some characteristics of a good coffee shop?\\n\\nResponse:\\nSome characteristics of good coffee shops include:\\n- Very good coffee, either freshly roasted locally or acquired from a quality roaster\\n- High end coffee grinders, brewing machines, and a high quality espresso machine and well-trained baristas\\n- Different coffee roast options (i.e. medium roast, dark roast) and brewing methods (i.e. drip coffee and pour-over) available\\n- A variety of cafe fare, such as pastries and croissants, available for purchase to accompany coffee\\n- Ample seating, with power outlets available by most seats.',\n",
              " 'Instruction:\\nWho saved Andromeda from the sea monster\\n\\nResponse:\\nPerseus',\n",
              " 'Instruction:\\nHow can I contribute to Spark?\\n\\nResponse:\\nYes, Spark is an open source project and anyone can contribute to it.',\n",
              " 'Instruction:\\nWho are \\'\\'The Lumières\" ?\\n\\nResponse:\\nThe Lumières (literally in English: The Lights) was a cultural, philosophical, literary and intellectual movement beginning in the second half of the 17th century, originating in western Europe and spreading throughout the rest of Europe. It included philosophers such as Baruch Spinoza, David Hume, John Locke, Edward Gibbon, Voltaire, Jean-Jacques Rousseau, Denis Diderot, Pierre Bayle and Isaac Newton. This movement is influenced by the scientific revolution in southern Europe arising directly from the Italian renaissance with people like Galileo Galilei. Over time it came to mean the Siècle des Lumières, in English the Age of Enlightenment.[Note 1]\\n\\nMembers of the movement saw themselves as a progressive élite, and battled against religious and political persecution, fighting against what they saw as the irrationality, arbitrariness, obscurantism and superstition of the previous centuries. They redefined the study of knowledge to fit the ethics and aesthetics of their time. Their works had great influence at the end of the 18th century, in the American Declaration of Independence and the French Revolution.\\n\\nThis intellectual and cultural renewal by the Lumières movement was, in its strictest sense, limited to Europe. These ideas were well understood in Europe, but beyond France the idea of \"enlightenment\" had generally meant a light from outside, whereas in France it meant a light coming from within oneself.\\n\\nIn the most general terms, in science and philosophy, the Enlightenment aimed for the triumph of reason over faith and belief; in politics and economics, the triumph of the bourgeois over nobility and clergy.',\n",
              " 'Instruction:\\nWhen was the wheel invented?\\n\\nResponse:\\nNo one knows when the wheel was first made. Archaeological evidence seems to show that the wheel was first used to make pottery in Mesopotamia about 7,000 years ago, during the Neolithic period. Later, it was used to make chariots. Chariot wheels have been found in Sumer as early as 3000 BC. The wheel is one of the most important inventions in human history. It was very useful for making pottery and getting around on land. It is also a key part of machines.',\n",
              " 'Instruction:\\nwrite a scene between two actors discussing movie Inception\\n\\nResponse:\\nActress 1: \"Oh my god, have you seen Inception?\"\\n\\nActor 2: \"Yes! That movie blew my mind. What did you think of it?\"\\n\\nActress 1: \"Honestly, I was so confused for most of it. But it was so interesting, I couldn\\'t look away. I had to know what was going on.\"\\n\\nActor 2: \"That\\'s exactly how I felt. It\\'s one of those movies that you have to pay attention to every detail, or you\\'ll get lost.\"\\n\\nActress 1: \"Absolutely. And the way they played with time and reality was so cool. I don\\'t think I\\'ve ever seen a movie like that before.\"\\n\\nActor 2: \"Yeah, the concept of entering someone\\'s dreams to implant an idea was mind-boggling. And the way they executed it was so well done.\"\\n\\nActress 1: \"It was. And the cast was amazing too. Leonardo DiCaprio was incredible as usual, and I loved seeing Ellen Page in a different type of role.\"\\n\\nActor 2: \"Definitely. And the action scenes were so intense. The zero-gravity hallway fight was insane.\"\\n\\nActress 1: \"Oh my god, yes. I was on the edge of my seat for that one. And the ending...I still can\\'t decide what it means.\"\\n\\nActor 2: \"I know, right? It\\'s one of those movies that leaves you with so many questions. But that\\'s part of what makes it so great.\"\\n\\nActress 1: \"Exactly. I love when movies challenge me to think and leave me wanting more. Inception definitely did that.\"\\n\\nActor 2: \"Agreed. It\\'s definitely one of my all-time favorites. I could watch it a hundred times and still discover something new.\"\\n\\nActress 1: \"Same here. It\\'s just one of those movies that sticks with you long after it\\'s over.\"',\n",
              " 'Instruction:\\nDid dinosaurs have lips?\\n\\nResponse:\\nRecent research suggests that the popular perception that dinosaurs had exposed teeth may be incorrect, and the current hypothesis is that the Tyrannosaurus rex did indeed have lips. A 2023 study by Dr Mark Witton of the University of Portsmouth said popular depictions of dinosaurs in movies like Jurassic Park are out of date. The study examined a large tooth that had spent over 500 days in the mouth of a Tyrannosaurus rex with no evidence of substantial wear, which is consistent with all findings of teeth found in the theropod family of dinosaurs. When contrasted with alligators and crocodiles, who have no lips and have more easily damaged teeth the theory says the evidence points to theropods, including Tyrannosaurus rex did indeed have lips. There would have been expected to be wear on the thin enamel on the teeth far more consistent with modern animals like crocodiles if dinosaurs had no lips.',\n",
              " 'Instruction:\\nAre lilies safe for cats?\\n\\nResponse:\\nNo, lilies are toxic to cats if consumed and should not be kept in a household with cats',\n",
              " \"Instruction:\\nWhat is Sunshine Recession?\\n\\nResponse:\\nIt is known as the deepest period in which sunspots are not virtually visible. Deepest period is related to sun cycle's process called solar minimum\",\n",
              " 'Instruction:\\nWhat is the currency in use in the Netherlands?\\n\\nResponse:\\nThe currency in use in the Netherlands is the euro.',\n",
              " 'Instruction:\\nWhat is the best tv series in the world\\n\\nResponse:\\nDexter- The Dexter is so exciting to watch that it should be the best TV series in the world',\n",
              " \"Instruction:\\nThink of some family rules to promote a healthy family relationship\\n\\nResponse:\\nUse Kind words\\nBe grateful\\nThink of others before yourself\\nWork hard\\nBe Honest\\nBe thankful\\nKeep your promises\\nChoose to be happy\\nAlways say 'I Love You'\\nBe kind\\nEncourage each other\",\n",
              " 'Instruction:\\nIn the series A Song of Ice and Fire, who is the founder of House Karstark?\\n\\nResponse:\\nKarlon Stark',\n",
              " \"Instruction:\\nWhat is enriched air and why would divers dive with enriched air?\\n\\nResponse:\\nEnriched air, also known as nitrox, is one kind of air with more than 21% oxygen. 21% oxygen is the normal air we breathe on the earth. The primary benefit of using enriched air is to extend the diver's bottom time, and reduce the need to push to no decompression limit. This advantage is really beneficial in deeper diving. \\nFor example, at 80 feet of depth, normal air can last around 30 min, while enriched air of 32% oxygen can last for 45 min and 36% can last for 55 min. \\nWhile enriched air is really beneficial in extending bottom time, it is important that divers get trained to use it before diving with enriched air.\",\n",
              " 'Instruction:\\nWhat film won the 1943 Oscar as best film\\n\\nResponse:\\nCasablanca',\n",
              " 'Instruction:\\nwhich weighs more, cold or hot water?\\n\\nResponse:\\nCold water weighs more than hot water',\n",
              " \"Instruction:\\nWrite a short paragraph about why you should not have both a pet cat and a pet bird.\\n\\nResponse:\\nHaving both a pet bird and a pet cat is not a good idea because cats will try to hunt birds, which are naturally the prey of cats. This hunting instinct is completely normal, and it isn't fair to the cat to try to train it not to attack birds, as it is simply in its nature to do so. However, letting a cat hunt your pet bird is similarly not humane, as it will be very stressful to the bird and could lead to the bird being injured. Larger birds are also not a good idea, as the bird could cause injury to the cat if the cat tries to attack it. Overall, it just isn't a good idea to have both cats and birds, since they tend not to coexist well, and pet owners should just pick one species to have.\",\n",
              " \"Instruction:\\nWhat is your favorite strip from the comic Calvin and Hobbes?\\n\\nResponse:\\nCalvin and Hobbes is an iconic strip that is regarded as one of the best comic strips in history. Individual preferences may vary and it's difficult to find the publishing rate of individual strips throughout its ten year syndication.\",\n",
              " 'Instruction:\\nWhat makes a formula one car so fast?\\n\\nResponse:\\nFormula One cars are one of the fastest racing cars in the world reaching speeds as high as 240 mph.\\n\\nThere are many aspects that make formula one cars fast, below are the top few\\n\\n1. Engine:  F1 cars have extremely powerful engines that can generate around 1000 bhp at up to 20,000 rpm\\n2. Power-to-Weight ratio: F1 cars are also extremely light at around 800 kgs giving them a power-to-weight ratio of 12000-1400 hp/ton. For comparison, the best Porsche cars have a power-to-weight ratio of only 300-400 hp/ton.\\n2. Aerodynamics: F1 cars are fitted with extremely sophisticated aerodynamics including a rear wing, front wing and body parts that help reduce aerodynamic drag for straight-line speeds while adding downforce to help around corners\\n3. Tires: F1 tires are extremely large and sticky. This help the cars stick to the road as the car goes through turns very fast.\\n4. Brakes: Lastly F1 brakes are very powerful and can slow down a car extremely quickly. This allows F1 cars to be at top speed for much longer before needing to slow down for taking a turn.',\n",
              " 'Instruction:\\nWhat is LAPR?\\n\\nResponse:\\nThis stands for life assurance premium relief. Before 14 March 1984 there was tax relief on life insurance premiums paid by policyholders for policies which qualified for tax relief. Policies which started',\n",
              " 'Instruction:\\nIs beauty objective or subjective?\\n\\nResponse:\\nThe opinions on this question vary from person to person. \\nStatistically, a pattern of preference is easily visible on what people would describe as beautiful. An evident example of this phenomenon is a beauty standard for women and men. Society seems to agree on what features, both physical and internal, can deem a person beautiful. The standard of beauty is also projected beyond humans, onto animal breeds, for example, in cat shows. \\nA link between beauty and how closely it resembles perfection appears to exist. For example, a rose with many petals and no tears or scratches is generally seen as more beautiful than one with fewer, visibly ruined petals. \\nHowever, the question of perfection also raises a problem as it is difficult and arguably impossible to define perfection. Beauty does not necessarily mean perfection. For example, large eyes are statistically considered to be more attractive however, in terms of their biological  purpose they possess no superiority to small eyes. Therefore, both beauty and perfection depend on the perspective or purpose with which you observe an object.\\n\\nFurthermore, the clear fluctuations through centuries and cultures on what is considered to be beautiful should also be taken into account. Fashion trends and art styles, for instance,  are constantly changing. Additionally, the diversity in opinions suggests there is nothing that is considered beautiful by everyone, so even if the majority deem a particular object or thing as beautiful, it’s beauty remains subjective because it remains based on an ever-changing preference rather than objective truth.',\n",
              " 'Instruction:\\nIdentify which instrument is string or percussion: Kpanlogo, Shamisen\\n\\nResponse:\\nShamisen is string, Kpanlogo is percussion.',\n",
              " 'Instruction:\\nWhy do potato chip bags become stale after opening?\\n\\nResponse:\\nPotato chip bags are filled with nitrogen! Many consumers think the chip companies are out there to get your money by filling three quarters of your bag with air, but it’s actually nitrogen to keep your chips fresh. This is why once you open the bag, you should finish the chips as soon as possible. There, now you have a reason to finish the whole bag of chips in one go without feeling guilty.',\n",
              " 'Instruction:\\nClassify each of the following as a primary color or a secondary color\\n\\nResponse:\\nblue, yellow, green, red, purple, orange',\n",
              " 'Instruction:\\nWhat is the future for human?\\n\\nResponse:\\nThis is a very wide open question. It could be two directions. One direction is that human would just disappear like the dinosaur.  One direction is that human would become a species like a god. For the first direction, it may be caused by many situations. e.g. Nuclear war from WW3, extreme climate change. For the other direction, reproduced energy is ready, all cancers can be cured, everything can be done with robot with AI, human life is unlimited.',\n",
              " 'Instruction:\\nName some of the bravolebrities from Vanderpump Rules\\n\\nResponse:\\nJames Kennedy, Katie Maloney, Raquel Leviss, Tom Sandoval, Ariana Madix, Tom Schwartz and Lala Kent',\n",
              " 'Instruction:\\nName some famous rock bands from the 1960s\\n\\nResponse:\\nThe 1960s had a number of famous rock bands including The Beatles, The Beach Boys, The Doors, The Rolling Stones, The Who, Led Zeppelin, The Grateful Dead, Pink Floyd, and many more.',\n",
              " \"Instruction:\\nWho invented the telephone?\\n\\nResponse:\\nIn 1876, Alexander Graham Bell was the first to obtain a United States patent for a device that produced a clearly intelligible replica of the human voice on a second device.\\nA resolution passed by the United States House of Representatives on June 11, 2002 called for recognition of Antonio Meucci's work and contributions towards the invention of the telephone.\",\n",
              " \"Instruction:\\nGive me five ways in which I can make my homebrew beer more interesting\\n\\nResponse:\\nThere are infinite ways to create interesting flavours, that are either personal favourites or attempt to replicate classic beers and beer styles. There are a number of factors that make up a beers flavour profile and part of the enjoyment brewing your own beer at home, is that you can play around with each of these to change the flavour and character of your homebrew beer. Here are five ways in which you can change your own homebrew recipe to add interesting flavours or alternatively you can alter an existing homebrew recipe shared by somebody else or a brewery.\\n\\n1. Use different hops\\nThere is a huge variety of hops available to homebrewers and each of these can introduce its own particular flavour and aroma to your beer, ranging from pineapple and apricots, to pine trees and woods, to grapefruit pith and lemon zest. By using a different hop in your recipe either from the same family or from an entirely different family of hops, you can easily add interesting and often radical changes to the flavour profile of your beer. However, depending on when the hops are added in the brewing process, you can also increase/decrease the levels of bitterness of your beer, due to different hop varieties having different levels of alpha acids.\\n\\n2. Use a different yeast\\nBesides fermenting the beer, yeast leave behind lots of interesting flavours and can give your homebrew it's own subtle character. For example, English yeast strains can add malty and sweet flavours, California yeast tends to create a clean and crisp beer, whilst saison yeast adds bright and fruity flavours to your beer.\\n\\n3. Use different grains\\nChanging the amount of base malts can increase or decrease the alcohol in your finished beer. Trying swapping one base malt for another, like American pale malts for a British variety, and look for the subtle differences between them. You can also play around with the specialty grains, like using a slightly darker roast.\\n\\n4. Add fruit, spices or herbs\\nFruits, spices, herbs, and other ingredients are a great way to add an entirely personal character to your homebrew. Anything from fresh strawberries and basil to vanilla beans and cardamom can really complement the other malty, hoppy flavours in a beer. \\n\\n5. Alter your water profile\\nDifferent beer styles will typically be best achieved with a suitable water profile, with different levels of minerals to achieve the desired flavour profile. By adjusting the amounts of specific minerals found in your brewing water, beer can be made to taste fuller bodied, sweeter, drier, more bitter, or even sour.\",\n",
              " 'Instruction:\\nHow many Grammy Awards has Bad Bunny won?\\n\\nResponse:\\nBad Bunny has won 2 Grammy Awards and has been nominated for 6',\n",
              " 'Instruction:\\nWhich of these are rappers? Eminem, Michael Jackson, Rihanna, 50 Cent\\n\\nResponse:\\nEminem, 50 Cent',\n",
              " 'Instruction:\\nWhat are some kinds of embroidery stitches for writing letters?\\n\\nResponse:\\nSome embroidery stitches that can be used to embroider letters are the back stitch, the split stitch, the stem stitch, the chain stitch, the couching stitch, and the satin stitch.',\n",
              " 'Instruction:\\nWhat is a kite?\\n\\nResponse:\\nA kite is a toy that can be be purchased in a store or a specialty shop.  It is a craft that is lighter an air that is tied to a string that you can fly on wind currents.  The kite has wings that react against the air to create lift enabling it to fly.  You can fly a kite at a park or an open area, and you will want to make sure there are no power lines nearby to be safe when flying the kite.',\n",
              " 'Instruction:\\nClassify each of the following pieces of equipment according to the sport they are used for, either basketball, football, or soccer: shin guards, shooting sleeve, penalty flag, corner flag, kicking tee, and goalie gloves.\\n\\nResponse:\\nThe classification is as follows:\\n- Soccer: goalie gloves, corner flag\\n- Basketball: shooting sleeve\\n- Football: penalty flag, kicking tee',\n",
              " 'Instruction:\\nWhat is a good way to get around without a car?\\n\\nResponse:\\nIf you live in a city you can access public transport such as buses and trains. You can also walk, use a bicycle, or electric scooter to get around.',\n",
              " 'Instruction:\\nIdentify which animal species is alive or extinct: Palaeophis, Giant Tortoise\\n\\nResponse:\\nGiant Tortoise is alive, Palaeophis is extinct.',\n",
              " 'Instruction:\\nWhy is Santa Cruz, California a great place to live?\\n\\nResponse:\\nSanta Cruz, California has one of the best climates in the continental U.S. – being close to the Pacific Ocean, temperatures stay warmer in the winters and cooler in the summers, but without the dreaded fog that nearby cities like San Francisco or Monterey experience. The small city is world-famous for surfing, and the relaxed vibe that comes with it. Natural beauty is abundant, with the mountains and beach only a few miles apart.',\n",
              " 'Instruction:\\nGive me some ideas to manage my manager.\\n\\nResponse:\\n1. Be honest\\n2. Communicate\\n3. Understand goals\\n4. Stay calm\\n5. Solve problems\\n6. Be positive\\n7. Share your knowledge\\n8. Be caring\\n9. Practice positive reinforcement\\n10. Be a strong performer',\n",
              " 'Instruction:\\nIdentify which instrument is string or percussion: Samphor, Viola toeria\\n\\nResponse:\\nViola toeria is string, Samphor is percussion.',\n",
              " 'Instruction:\\nIf we were playing a game where we had to identify things that can be found inside a house, which of these would we call out: car, chair, table, park, cloud, microwave.\\n\\nResponse:\\nInside a house you can find a chair, a table and a microwave. Cars, clouds and parks are found outside of houses.',\n",
              " 'Instruction:\\nClassify the following as either dark-colored beers or light colored beers: porter, pilsner, stout, amber, lager\\n\\nResponse:\\nDark-colored beers: porter, stout, amber\\nLight-colored beers: pilsner, lager',\n",
              " 'Instruction:\\nGive me a bulleted list of the 5 highest mountains in the world and their respective heights in meters\\n\\nResponse:\\n* Mount Everest. Height: 8,849 meters\\n* K2. Height: 8,611 meters\\n* Kangchenjunga. Height: 8,586 meters\\n* Lhotse. Height: 8,516 meters\\n* Makalu. Height: 8,485 meters',\n",
              " 'Instruction:\\nWhich products apple sell?\\n\\nResponse:\\nApple sells variety of products. including watches, phones, laptops and computers.',\n",
              " \"Instruction:\\nWrite a short story about a person who discovers a hidden room in their house. The story should include a plot twist and a clear resolution at the end.\\n\\nResponse:\\nIt was going to be a long day.  With her brother-in-law out of town, Lisa had agreed to watch her niece Stella for the afternoon and the little girl was known to be a bit of a handful. Her plan had been to spend the afternoon at the park to let Stella run and climb, to wear her out a bit.  Unfortunately, this outing was foiled by the constant downpour of rain so Lisa resigned herself to a day inside with the tiny tyrant. Stella arrived early and excited to play.  Lisa decided to begin with a game of hide and seek, after all this could take up a good part of the morning without too much trouble.  Stella ran off to hide and Lisa sat quietly drinking coffee while calling out to the little girl, pretending to seek. Eventually she set off to find the little girl but soon she realized that something was wrong.  No matter where she looked, Stella was nowhere to be found. The house wasn't that large, making her disappearance even more perplexing.  Lisa had only recently moved into the home that she bought from her great aunt shortly before her death and she hasn't even moved out all of the existing furniture. Maybe Stella had gotten stuck somewhere behind the large wardrobe in the bedroom or she had climbed up into a cupboard in the laundry room.  Panic was starting to settle in as she moved the wardrobe further from the wall, where only a small child could have hidden before.  Suddenly, saw a small crack in the wall, and then realized it was a small door that she never knew was there.  The door was slightly ajar and she eventually moved the wardrobe enough to open the door and climb inside. What was this place?  The entrance opened up to reveal a small room that Lisa never knew existed!  It was full of treasure, gold bars and jewels.  Stella sat in the middle of the room quietly playing with the treasure, unaware of the immense value she was surrounded by.  Lisa had known her aunt was a secretive woman but this was an incredible find and would change her life forever.  Stella's visit was the good luck charm she needed to unlock this bounty and she would be forever grateful to the little girl!  Time to call her brother-in-law to thank him for letting Stella visit.\",\n",
              " 'Instruction:\\nList 6 different types of rain in Seattle\\n\\nResponse:\\n1. Mist\\n2. Drizzle\\n3. Sleet\\n4. Downpour\\n5. Freezing Rain\\n6. Sun Shower',\n",
              " \"Instruction:\\nWhat is investment banking?\\n\\nResponse:\\nInvestment banking pertains to certain activities of a financial services company or a corporate division that consist in advisory-based financial transactions on behalf of individuals, corporations, and governments. Traditionally associated with corporate finance, such a bank might assist in raising financial capital by underwriting or acting as the client's agent in the issuance of debt or equity securities. An investment bank may also assist companies involved in mergers and acquisitions (M&A) and provide ancillary services such as market making, trading of derivatives and equity securities, FICC services (fixed income instruments, currencies, and commodities) or research (macroeconomic, credit or equity research). Most investment banks maintain prime brokerage and asset management departments in conjunction with their investment research businesses. As an industry, it is broken up into the Bulge Bracket (upper tier), Middle Market (mid-level businesses), and boutique market (specialized businesses).\\n\\nUnlike commercial banks and retail banks, investment banks do not take deposits.\",\n",
              " 'Instruction:\\nI started a new company named Greystone Inc. What do we do?\\n\\nResponse:\\n- Investment banking for weird guys only\\n- Aerospace consulting\\n- Pasta and pasta accessory global logistics\\n- Political lobbying for the mining industry',\n",
              " \"Instruction:\\nTell me whether or not these foods are on EWG's dirty dozen list\\n\\nResponse:\\navocados, kiwi, pairs, blueberries, green beans, kale, cabbage\",\n",
              " 'Instruction:\\nHow much music theory knowledge is required to compose music?\\n\\nResponse:\\nTechnically speaking, very little music theory knowledge is “required” to compose music. Music theory is, essentially, what musicians have learned over the course of several hundred years about how to write music that is interesting and sounds good. In other words, music theory is there to help you, not hold you back. \\n\\nWhen you learn music theory, what often happens is that you expand your broader understanding of music, which can be a very helpful safety net. The more music theory you know, the easier you’ll be able to distinguish between the good ideas and the not-so-good. You need to know the rules before you can break them. You need to be able to write by the book before you throw the book away. If not, you run the risk of writing music that’s not nearly as clever as you think it is, that tries to be daring and experimental but ends up just being dull and vanilla. And frankly, I just don’t see the value in ignoring all the work that centuries worth of musicians have done into knowing how music works. Putting the time into learning and really understanding it can only make you a better musician and a better composer.\\n\\nSo, that’s my answer. Learn at least as much theory as you need to know to understand the rules you want to break.',\n",
              " 'Instruction:\\nCategorize each of the following instruments as either string or keyboard: Guitar, Violin, piano, harmonium, cello, accordion, banjo\\n\\nResponse:\\nGuitar - String\\nViolin - String\\npiano - keyboard\\nharmonium - keyboard\\ncello - string\\naccordion - keyboard\\nbanjo - string',\n",
              " 'Instruction:\\nWhat is the tallest mountain in the continental US?\\n\\nResponse:\\nMt. Whitney, which is 14500 ft,  is the tallest mountain in the continental US. Although if we were to include the state of Alaska, then the tallest mountain is actually Mt Denali, which is 20,320 ft. Mt. Whitney is actually only the 17th tallest mountain in all of the US, where the tallest 1-16 are all mountains in Alaska.',\n",
              " \"Instruction:\\nWhat are some of the best comedy movies of the 1980's?\\n\\nResponse:\\nSome of the best movies released in the 1980's are The Breakfast Club, The Goonies, Sixteen Candles, Ghostbusters and Back to the Future.\",\n",
              " 'Instruction:\\nIn golf what do the Americans call an albatross\\n\\nResponse:\\nDouble Eagle',\n",
              " 'Instruction:\\nWhat are common ingredients of a full english breakfast?\\n\\nResponse:\\nBacon, eggs, sausages, beans, toast, mushrooms, tomatoes. Some people also include black pudding and hash browns.\\nEggs are commonly fried or scrambled.',\n",
              " 'Instruction:\\nPlan for a three day road trip for May long weekend from Westfield, New Jersey\\n\\nResponse:\\nMay 26: Drive to Montreal from Westfield, NJ. Time taken  6 hrs. Stay there overnight\\nMay 27:  have a quick breakfast..checkout and drive to Mount Tremblant. Time: 90 minutes\\nMay 27: Hike Grand Brule ( red path) on the way up and green path on the way down\\nMay 27: Stroll around the Tremblant village\\nMay 28: Drive to Quebec City. Time taken: 4 hrs\\nMay 28: Explore the city, aquarium and go for wildlife watching\\nMay 29: Drive to Montreal. Spend time exploring the city\\nMay 30: Drive back to Westfield, New Jersey',\n",
              " 'Instruction:\\nHow do you operate a car with a manual transmission?\\n\\nResponse:\\nThrough a combination of a shifter and three pedals: gas, brake, and clutch. Press down the clutch pedal with one foot, and the brake with your other foot first and then turn on the engine of the car. It is recommended to shift to neutral immediately after turning on your car and prior to departing. To shift between one of the engaged gears, typically marked 1, 2, 3, 4, 5 N (for neutral) and R (for reverse), press down on the clutch all the way to the floor and move the shifter to the desired location. Once the car is on and you\\'re in neutral if you want to move forward, press and hold the clutch pedal to the floor and move the shifter to the \"1\" position. Slowly disengage the clutch pedal partially, and while disengaging slowly start to press down on the gas pedal. After gradually pressing more on the gas pedal, slowly remove your foot from the clutch entirely. This will start you in forward motion, and you will be restricted to the speed limit of 1st gear. You can track this limit through the RPM (revolutions per minute) gauge on the dashboard of your car. Typically you want to keep the RPMs between 1500-4000. If the RPMs start to decrease to 1500-2000 that is a sign you want to shift from a higher gear to a lower gear (i.e. 2nd gear to 1st gear), and as the RPMs increase to 4000, that is an indication you want to shift to a higher gear (i.e. 2nd gear to 3rd gear).',\n",
              " 'Instruction:\\nWhat is the Research Collaboratory for Structural Bioinformatics Protein Data Bank (RCSB PDB)?\\n\\nResponse:\\nThe Research Collaboratory for Structural Bioinformatics Protein Data Bank (RCSB PDB) is a database that provides a wealth of information about the 3D structures of proteins, nucleic acids, and other macromolecules. The database contains experimentally determined atomic coordinates for a large number of macromolecules, which can be used to study their structures, functions, and interactions. The RCSB PDB is widely used in genomics research and drug discovery, as it provides a valuable resource for understanding the structural basis of many biological processes and for designing new drugs that target specific macromolecules.\\n\\nIn addition to the atomic coordinates, the RCSB PDB contains a wealth of additional information about each macromolecule, including experimental methods used for structure determination, citations to relevant scientific literature, and information about biological function, sequence, and homology. The database also provides a variety of tools and resources for visualizing, analyzing, and downloading structural data, including a web-based viewer that allows users to interactively explore the 3D structures of macromolecules.',\n",
              " 'Instruction:\\nWhat are 5 potential uses for an empty La Croix can?\\n\\nResponse:\\n1. Make your bike sound like it has an engine by wrapping the can around the back tire.\\n2. A percussion instrument to play along with friends in a jam session.  You could just crinkle it, hit it with a pen, or fill it with sand or debris and shake it.  \\n3. A baking tool.  You can used the bottom of the can to stamp out perfectly circle, uniform cookies from a rolled-out sheet of cookie dough.\\n4. A field razor.  Tear the can carefully to create an effective cutting device for emergency use.\\n5. A make shift ball to throw around with friends at the park. An empty can could be a fun projectile to use in a friendly game of 3 Flies Up.',\n",
              " 'Instruction:\\nWhat is the name of the Winslow\\'s nerdy next-door neighbor on the TV show \"Family Matters\"?\\n\\nResponse:\\nSteve Urkel',\n",
              " \"Instruction:\\nWhy are so many US Hollywood films made in the state of Georgia?\\n\\nResponse:\\nWhile film in the United States as an audience artform started in New York it moved to Los Angeles for the stated reason of longer and sunnier days.  Another part of the story was a patent dispute in 1898 between Thomas Edison and his patent for the Kinetograph.  Edison stated that he effectively had a say in how films were made and wanted royalties for their use.  Moving from New York near where Edison was based to Los Angeles was a simple way to grow the industry and distance themselves from a patent war.  \\n\\nThis mobility at the start of the modern film era due to costs continued through the 1960's and 1970's with westerns being shot in Spain.  The 1980's and 1990's continued this trend primarily shooting in Canada or Mexico.  At the turn of the century state legislators in the United States started provided steep tax rebates.  The practical outworking of this is studios are encouraged to hire local talent and use local services when producing their film.  The ratios for these rebates is fairly complicated and have created a new industry of tax professionals serving the film industry.\\n\\nSo then why Georgia?  Georgia currently provides one of the highest incentive structures at 20% with minimal restrictions on talent and a very low minimum budget of $500,000.\",\n",
              " \"Instruction:\\nWhat are some tools that every homeowner should have?\\n\\nResponse:\\nThere is a tool designed for almost every challenge a homeowner will face, but purchasing every tool could prove to be cost prohibitive, especially if they are highly specialized for tasks that may occur infrequently.  It's best to have a general set of tools that have a wide variety of uses, including a hammer, a set of screwdrivers both flat and philips, a tape measure, a level, a stud finder, and a utility knife. A battery powered drill and impact driver can also save time, and make mounting projects easier.\",\n",
              " 'Instruction:\\nWhat is an apple?\\n\\nResponse:\\nAn apple is an edible fruit produced by an apple tree. Apple trees are cultivated worldwide and are the most widely grown species in the genus Malus.',\n",
              " \"Instruction:\\nwrite a short essay on California wild fire\\n\\nResponse:\\nCalifornia is known for its hot, dry summers, which increase the risk of wildfires. Every year, the state experiences dozens of fires, which can be devastating to both the environment and people's homes and businesses.\\n\\nIn recent years, California has seen some of the worst wildfires in its history, with tens of thousands of acres of land destroyed and hundreds of homes lost. These fires are often started by a combination of high temperatures, dry conditions, and strong winds, which can quickly spread flames and make them difficult to control.\\n\\nThe effects of these fires are felt not just by those directly impacted, but by everyone in the state. Smoke and ash from the fires can cause respiratory problems and other health issues, and the destruction of habitats can harm wildlife populations and disrupt entire ecosystems.\\n\\nDespite the challenges, California has made significant progress in fighting wildfires in recent years. The state has invested in new technologies and equipment to help firefighters respond more quickly and effectively to fires, and has increased efforts to prevent fires from starting in the first place.\\n\\nWhile wildfires will likely always be a risk in California, the state's proactive approach to managing them gives hope that we can continue to protect people, wildlife, and the environment from their devastating effects.\",\n",
              " 'Instruction:\\nClassify each of the following as either a bird, animal, reptile or insect: tiger, heron, eagle, alligator, snake, spider, ant, dog, cat, rhinoceros, kingfisher, chameleon, hornet, butterfly\\n\\nResponse:\\nmammal- tiger, rhinoceros, dog, cat\\nbird- heron, kingfisher, eagle\\nreptile- snake, alligator, chameleon\\ninset- spider, ant, hornet, butterfly',\n",
              " 'Instruction:\\nWhat are some different things you should bring with you on a day hiking trip?\\n\\nResponse:\\nYou should bring water, a snack, sunscreen, hiking boots, a first aid kit and a cellphone',\n",
              " 'Instruction:\\nWhich is a species of fish? Sea dragon or Red bearded\\n\\nResponse:\\nSea dragon',\n",
              " 'Instruction:\\nCategorize where each of these household items belong: bed, couch, desk\\n\\nResponse:\\nA bed belongs in a bedroom, a couch belongs in a living area, a desk belongs in an office',\n",
              " 'Instruction:\\nSeparate the following suburbs into those that border, and do not border, the Brisbane River: Indooroopilly, Bulimba, St Lucia, Newstead, Wilston, West End, Toowong, Bowen Hills and, Wooloongabba.\\n\\nResponse:\\nSt Lucia, West End, Toowong, Bulimba and Newstead border the Brisbane River. Wilston, Wooloongabba, Indooroopilly and Bowen Hills are inland and do not border the Brisbane River.',\n",
              " 'Instruction:\\nWhat are AirPods?\\n\\nResponse:\\nAir Pods are an in ear headphone product made and sold by Apple. Their unique market differentiators are a software simulated spatial audio system and noise canceling features.',\n",
              " 'Instruction:\\nWhat is the difference between pets and cattle?\\n\\nResponse:\\nAlthough both are animals at the end of the day, however, the main difference comes partially in the form of perception and, historically, the relationship of humans with certain animals. Pets, e.g. dogs, cats, etc., are used more for companionship and not for food. On the contrary, cattle, e.g. cows, pigs, chickens, etc., are primarily raised for food, i.e. meat, milk, eggs, etc.',\n",
              " \"Instruction:\\nHow do I put a bouquet of fresh flowers in a vase?\\n\\nResponse:\\nIn order to put fresh flowers in a vase, follow these steps:\\n\\n1. Find a vase that it is the right size for the flowers. You can use water glasses here in a pinch. \\n2. Fill the vase to about two-thirds full with water. You can add a dash of bleach in the water as well, but it is not necessary. \\n3. Now, trim your flowers to the size of the vase. Cut the end of each flower in a diagonal cut. \\n4. Remove the leaves from the flowers. This will help to grow the flower without putting resources towards the leaves. Be sure to remove any leaves under the water line, since they can cause infections. \\n5. Arrange the flowers in the vase. You can adjust the positions until you are happy with the arrangement.\\n6. Place your vase in a shady spot and you're done!\",\n",
              " \"Instruction:\\nWhat should I do on a free afternoon in San Francisco?\\n\\nResponse:\\nYou can visit and take photos at San Francisco's landmarks such as Pier 39 or Golden Gate Bridge. If you enjoy walking outdoors, there are several large parks in the city. You can visit Golden Gate Park and the various attractions and museums located in the park. The Presidio is also a popular park where you can get some of the best views of Golden Gate Bridge.\",\n",
              " 'Instruction:\\nIdentify which instrument is string or woodwind: Janzi, Gemshorn\\n\\nResponse:\\nGemshorn is woodwind, Janzi is string.',\n",
              " 'Instruction:\\nIdentify which animal species is alive or extinct: Pliosaur, Marine Iguana\\n\\nResponse:\\nPliosaur is extinct, Marine Iguana is alive.',\n",
              " 'Instruction:\\nClassify each of the following as either a title by Isaac Asimov or Jules Verne: Pebble in the Sky, The Stars, Like Dust, Foundation, The Robots of Dawn, The Naked Sun, Around the World in Eighty Days, From the Earth to the Moon, Martin Paz, Journey to the Centre of the Earth, A Drama in the Air\\n\\nResponse:\\nIsaac Asimov: Pebble in the Sky, The Stars, Like Dust, Foundation, The Robots of Dawn, The Naked Sun\\nJules Verne: Around the World in Eighty Days, From the Earth to the Moon, Martin Paz, Journey to the Centre of the Earth, A Drama in the Air',\n",
              " 'Instruction:\\nWat id DNA annotation?\\n\\nResponse:\\nDNA annotation or genome annotation is the process of identifying the locations of genes and all of the coding regions in a genome and determining what those genes do. An annotation (irrespective of the context) is a note added by way of explanation or commentary. Once a genome is sequenced, it needs to be annotated to make sense of it. Genes in a eukaryotic genome can be annotated using various annotation tools such as FINDER. A modern annotation pipeline can support a user-friendly web interface and software containerization such as MOSGA. Modern annotation pipelines for prokaryotic genomes are Bakta, Prokka and PGAP.\\n\\nFor DNA annotation, a previously unknown sequence representation of genetic material is enriched with information relating genomic position to intron-exon boundaries, regulatory sequences, repeats, gene names and protein products. This annotation is stored in genomic databases such as Mouse Genome Informatics, FlyBase, and WormBase. Educational materials on some aspects of biological annotation from the 2006 Gene Ontology annotation camp and similar events are available at the Gene Ontology website.\\n\\nThe National Center for Biomedical Ontology develops tools for automated annotation of database records based on the textual descriptions of those records.\\n\\nAs a general method, dcGO has an automated procedure for statistically inferring associations between ontology terms and protein domains or combinations of domains from the existing gene/protein-level annotations.',\n",
              " \"Instruction:\\nWho were Jaehaerys I Targaryen's children?\\n\\nResponse:\\nPrince Aegon, Princess Daenerys, Prince Aemon, Prince Baelon, Princess Alyssa, Septa Maegelle, Archmaester Vaegon, Princess Daella, Princess Saera, Princess Viserra, Prince Gaemon, Prince Valerion, Princess Gael\"]"
            ]
          },
          "metadata": {},
          "execution_count": 25
        }
      ]
    },
    {
      "cell_type": "markdown",
      "source": [
        "# Load LLM Model\n",
        "* KerasNLP is an alternative to using HuggingFace. It does not replace it but offers an additional toolbox.\n",
        "* The great thing about KerasNLP is that it provides numerous tools for fine-tuning open-source LLMs.\n",
        "* Gemma in particular has a full framework we can use: https://keras.io/keras_hub/api/models/gemma/gemma_causal_lm/\n",
        "* Since we are fine-tuning Gemma for generative AI tasks, we will use `GemmaCausalLM` to causal modeling.\n",
        "\n",
        "## Load model from Kaggle using the `from_preset` method.\n",
        "* Gemma model card from Kaggle: https://www.kaggle.com/models/google/gemma\n",
        "* The `from_preset` method will init the model from the preset architecture and model weights.\n",
        "  * The specific model loading below is `gemma_2b_en`.\n",
        "  * There is also the `gemma_7b` model which would require more compute power and GPU access."
      ],
      "metadata": {
        "id": "Aje6Td3USkmL"
      }
    },
    {
      "cell_type": "code",
      "source": [
        "## create gemma model\n",
        "gemma_lm = keras_nlp.models.GemmaCausalLM.from_preset(\"gemma_2b_en\")\n",
        "gemma_lm.summary()"
      ],
      "metadata": {
        "colab": {
          "base_uri": "https://localhost:8080/",
          "height": 388
        },
        "id": "uK9m5_y8Sg04",
        "outputId": "8f653fed-6f33-4363-ae5f-6d6bafcf2709"
      },
      "execution_count": 26,
      "outputs": [
        {
          "output_type": "display_data",
          "data": {
            "text/plain": [
              "\u001b[1mPreprocessor: \"gemma_causal_lm_preprocessor\"\u001b[0m\n"
            ],
            "text/html": [
              "<pre style=\"white-space:pre;overflow-x:auto;line-height:normal;font-family:Menlo,'DejaVu Sans Mono',consolas,'Courier New',monospace\"><span style=\"font-weight: bold\">Preprocessor: \"gemma_causal_lm_preprocessor\"</span>\n",
              "</pre>\n"
            ]
          },
          "metadata": {}
        },
        {
          "output_type": "display_data",
          "data": {
            "text/plain": [
              "┏━━━━━━━━━━━━━━━━━━━━━━━━━━━━━━━━━━━━━━━━━━━━━━━━━━━━━━━━━━━━━━━┳━━━━━━━━━━━━━━━━━━━━━━━━━━━━━━━━━━━━━━━━━━┓\n",
              "┃\u001b[1m \u001b[0m\u001b[1mLayer (type)                                                 \u001b[0m\u001b[1m \u001b[0m┃\u001b[1m \u001b[0m\u001b[1m                                  Config\u001b[0m\u001b[1m \u001b[0m┃\n",
              "┡━━━━━━━━━━━━━━━━━━━━━━━━━━━━━━━━━━━━━━━━━━━━━━━━━━━━━━━━━━━━━━━╇━━━━━━━━━━━━━━━━━━━━━━━━━━━━━━━━━━━━━━━━━━┩\n",
              "│ gemma_tokenizer (\u001b[38;5;33mGemmaTokenizer\u001b[0m)                              │                      Vocab size: \u001b[38;5;34m256,000\u001b[0m │\n",
              "└───────────────────────────────────────────────────────────────┴──────────────────────────────────────────┘\n"
            ],
            "text/html": [
              "<pre style=\"white-space:pre;overflow-x:auto;line-height:normal;font-family:Menlo,'DejaVu Sans Mono',consolas,'Courier New',monospace\">┏━━━━━━━━━━━━━━━━━━━━━━━━━━━━━━━━━━━━━━━━━━━━━━━━━━━━━━━━━━━━━━━┳━━━━━━━━━━━━━━━━━━━━━━━━━━━━━━━━━━━━━━━━━━┓\n",
              "┃<span style=\"font-weight: bold\"> Layer (type)                                                  </span>┃<span style=\"font-weight: bold\">                                   Config </span>┃\n",
              "┡━━━━━━━━━━━━━━━━━━━━━━━━━━━━━━━━━━━━━━━━━━━━━━━━━━━━━━━━━━━━━━━╇━━━━━━━━━━━━━━━━━━━━━━━━━━━━━━━━━━━━━━━━━━┩\n",
              "│ gemma_tokenizer (<span style=\"color: #0087ff; text-decoration-color: #0087ff\">GemmaTokenizer</span>)                              │                      Vocab size: <span style=\"color: #00af00; text-decoration-color: #00af00\">256,000</span> │\n",
              "└───────────────────────────────────────────────────────────────┴──────────────────────────────────────────┘\n",
              "</pre>\n"
            ]
          },
          "metadata": {}
        },
        {
          "output_type": "display_data",
          "data": {
            "text/plain": [
              "\u001b[1mModel: \"gemma_causal_lm\"\u001b[0m\n"
            ],
            "text/html": [
              "<pre style=\"white-space:pre;overflow-x:auto;line-height:normal;font-family:Menlo,'DejaVu Sans Mono',consolas,'Courier New',monospace\"><span style=\"font-weight: bold\">Model: \"gemma_causal_lm\"</span>\n",
              "</pre>\n"
            ]
          },
          "metadata": {}
        },
        {
          "output_type": "display_data",
          "data": {
            "text/plain": [
              "┏━━━━━━━━━━━━━━━━━━━━━━━━━━━━━━━┳━━━━━━━━━━━━━━━━━━━━━━━━━━━┳━━━━━━━━━━━━━━━━━┳━━━━━━━━━━━━━━━━━━━━━━━━━━━━┓\n",
              "┃\u001b[1m \u001b[0m\u001b[1mLayer (type)                 \u001b[0m\u001b[1m \u001b[0m┃\u001b[1m \u001b[0m\u001b[1mOutput Shape             \u001b[0m\u001b[1m \u001b[0m┃\u001b[1m \u001b[0m\u001b[1m        Param #\u001b[0m\u001b[1m \u001b[0m┃\u001b[1m \u001b[0m\u001b[1mConnected to              \u001b[0m\u001b[1m \u001b[0m┃\n",
              "┡━━━━━━━━━━━━━━━━━━━━━━━━━━━━━━━╇━━━━━━━━━━━━━━━━━━━━━━━━━━━╇━━━━━━━━━━━━━━━━━╇━━━━━━━━━━━━━━━━━━━━━━━━━━━━┩\n",
              "│ padding_mask (\u001b[38;5;33mInputLayer\u001b[0m)     │ (\u001b[38;5;45mNone\u001b[0m, \u001b[38;5;45mNone\u001b[0m)              │               \u001b[38;5;34m0\u001b[0m │ -                          │\n",
              "├───────────────────────────────┼───────────────────────────┼─────────────────┼────────────────────────────┤\n",
              "│ token_ids (\u001b[38;5;33mInputLayer\u001b[0m)        │ (\u001b[38;5;45mNone\u001b[0m, \u001b[38;5;45mNone\u001b[0m)              │               \u001b[38;5;34m0\u001b[0m │ -                          │\n",
              "├───────────────────────────────┼───────────────────────────┼─────────────────┼────────────────────────────┤\n",
              "│ gemma_backbone                │ (\u001b[38;5;45mNone\u001b[0m, \u001b[38;5;45mNone\u001b[0m, \u001b[38;5;34m2048\u001b[0m)        │   \u001b[38;5;34m2,506,172,416\u001b[0m │ padding_mask[\u001b[38;5;34m0\u001b[0m][\u001b[38;5;34m0\u001b[0m],        │\n",
              "│ (\u001b[38;5;33mGemmaBackbone\u001b[0m)               │                           │                 │ token_ids[\u001b[38;5;34m0\u001b[0m][\u001b[38;5;34m0\u001b[0m]            │\n",
              "├───────────────────────────────┼───────────────────────────┼─────────────────┼────────────────────────────┤\n",
              "│ token_embedding               │ (\u001b[38;5;45mNone\u001b[0m, \u001b[38;5;45mNone\u001b[0m, \u001b[38;5;34m256000\u001b[0m)      │     \u001b[38;5;34m524,288,000\u001b[0m │ gemma_backbone[\u001b[38;5;34m0\u001b[0m][\u001b[38;5;34m0\u001b[0m]       │\n",
              "│ (\u001b[38;5;33mReversibleEmbedding\u001b[0m)         │                           │                 │                            │\n",
              "└───────────────────────────────┴───────────────────────────┴─────────────────┴────────────────────────────┘\n"
            ],
            "text/html": [
              "<pre style=\"white-space:pre;overflow-x:auto;line-height:normal;font-family:Menlo,'DejaVu Sans Mono',consolas,'Courier New',monospace\">┏━━━━━━━━━━━━━━━━━━━━━━━━━━━━━━━┳━━━━━━━━━━━━━━━━━━━━━━━━━━━┳━━━━━━━━━━━━━━━━━┳━━━━━━━━━━━━━━━━━━━━━━━━━━━━┓\n",
              "┃<span style=\"font-weight: bold\"> Layer (type)                  </span>┃<span style=\"font-weight: bold\"> Output Shape              </span>┃<span style=\"font-weight: bold\">         Param # </span>┃<span style=\"font-weight: bold\"> Connected to               </span>┃\n",
              "┡━━━━━━━━━━━━━━━━━━━━━━━━━━━━━━━╇━━━━━━━━━━━━━━━━━━━━━━━━━━━╇━━━━━━━━━━━━━━━━━╇━━━━━━━━━━━━━━━━━━━━━━━━━━━━┩\n",
              "│ padding_mask (<span style=\"color: #0087ff; text-decoration-color: #0087ff\">InputLayer</span>)     │ (<span style=\"color: #00d7ff; text-decoration-color: #00d7ff\">None</span>, <span style=\"color: #00d7ff; text-decoration-color: #00d7ff\">None</span>)              │               <span style=\"color: #00af00; text-decoration-color: #00af00\">0</span> │ -                          │\n",
              "├───────────────────────────────┼───────────────────────────┼─────────────────┼────────────────────────────┤\n",
              "│ token_ids (<span style=\"color: #0087ff; text-decoration-color: #0087ff\">InputLayer</span>)        │ (<span style=\"color: #00d7ff; text-decoration-color: #00d7ff\">None</span>, <span style=\"color: #00d7ff; text-decoration-color: #00d7ff\">None</span>)              │               <span style=\"color: #00af00; text-decoration-color: #00af00\">0</span> │ -                          │\n",
              "├───────────────────────────────┼───────────────────────────┼─────────────────┼────────────────────────────┤\n",
              "│ gemma_backbone                │ (<span style=\"color: #00d7ff; text-decoration-color: #00d7ff\">None</span>, <span style=\"color: #00d7ff; text-decoration-color: #00d7ff\">None</span>, <span style=\"color: #00af00; text-decoration-color: #00af00\">2048</span>)        │   <span style=\"color: #00af00; text-decoration-color: #00af00\">2,506,172,416</span> │ padding_mask[<span style=\"color: #00af00; text-decoration-color: #00af00\">0</span>][<span style=\"color: #00af00; text-decoration-color: #00af00\">0</span>],        │\n",
              "│ (<span style=\"color: #0087ff; text-decoration-color: #0087ff\">GemmaBackbone</span>)               │                           │                 │ token_ids[<span style=\"color: #00af00; text-decoration-color: #00af00\">0</span>][<span style=\"color: #00af00; text-decoration-color: #00af00\">0</span>]            │\n",
              "├───────────────────────────────┼───────────────────────────┼─────────────────┼────────────────────────────┤\n",
              "│ token_embedding               │ (<span style=\"color: #00d7ff; text-decoration-color: #00d7ff\">None</span>, <span style=\"color: #00d7ff; text-decoration-color: #00d7ff\">None</span>, <span style=\"color: #00af00; text-decoration-color: #00af00\">256000</span>)      │     <span style=\"color: #00af00; text-decoration-color: #00af00\">524,288,000</span> │ gemma_backbone[<span style=\"color: #00af00; text-decoration-color: #00af00\">0</span>][<span style=\"color: #00af00; text-decoration-color: #00af00\">0</span>]       │\n",
              "│ (<span style=\"color: #0087ff; text-decoration-color: #0087ff\">ReversibleEmbedding</span>)         │                           │                 │                            │\n",
              "└───────────────────────────────┴───────────────────────────┴─────────────────┴────────────────────────────┘\n",
              "</pre>\n"
            ]
          },
          "metadata": {}
        },
        {
          "output_type": "display_data",
          "data": {
            "text/plain": [
              "\u001b[1m Total params: \u001b[0m\u001b[38;5;34m2,506,172,416\u001b[0m (9.34 GB)\n"
            ],
            "text/html": [
              "<pre style=\"white-space:pre;overflow-x:auto;line-height:normal;font-family:Menlo,'DejaVu Sans Mono',consolas,'Courier New',monospace\"><span style=\"font-weight: bold\"> Total params: </span><span style=\"color: #00af00; text-decoration-color: #00af00\">2,506,172,416</span> (9.34 GB)\n",
              "</pre>\n"
            ]
          },
          "metadata": {}
        },
        {
          "output_type": "display_data",
          "data": {
            "text/plain": [
              "\u001b[1m Trainable params: \u001b[0m\u001b[38;5;34m2,506,172,416\u001b[0m (9.34 GB)\n"
            ],
            "text/html": [
              "<pre style=\"white-space:pre;overflow-x:auto;line-height:normal;font-family:Menlo,'DejaVu Sans Mono',consolas,'Courier New',monospace\"><span style=\"font-weight: bold\"> Trainable params: </span><span style=\"color: #00af00; text-decoration-color: #00af00\">2,506,172,416</span> (9.34 GB)\n",
              "</pre>\n"
            ]
          },
          "metadata": {}
        },
        {
          "output_type": "display_data",
          "data": {
            "text/plain": [
              "\u001b[1m Non-trainable params: \u001b[0m\u001b[38;5;34m0\u001b[0m (0.00 B)\n"
            ],
            "text/html": [
              "<pre style=\"white-space:pre;overflow-x:auto;line-height:normal;font-family:Menlo,'DejaVu Sans Mono',consolas,'Courier New',monospace\"><span style=\"font-weight: bold\"> Non-trainable params: </span><span style=\"color: #00af00; text-decoration-color: #00af00\">0</span> (0.00 B)\n",
              "</pre>\n"
            ]
          },
          "metadata": {}
        }
      ]
    },
    {
      "cell_type": "markdown",
      "source": [
        "# Testing out the Gemma Base Model\n",
        "* We can test out the base model before we fine-tune it. This is always best practice in LLM fine-tuning to see what the raw capabilities of a model are before fine-tuning for specific tasks."
      ],
      "metadata": {
        "id": "XoJxF4iGbMrA"
      }
    },
    {
      "cell_type": "markdown",
      "source": [
        "Test #1 - Travel related prompt"
      ],
      "metadata": {
        "id": "OWaWbE0zdPBV"
      }
    },
    {
      "cell_type": "code",
      "source": [
        "## create Zero-shot prompt\n",
        "prompt = template.format(\n",
        "    instruction=\"What should I do on a trip to Breckenridge, Colorado?\",\n",
        "    response=\"\",\n",
        ")\n",
        "## Samplers allow us to control the statistical sampling used on the LLM\n",
        "## more about samplers: https://keras.io/keras_hub/api/samplers/\n",
        "## similar to \"do_sample=True\" setting in hugging face transformers\n",
        "sampler = keras_nlp.samplers.TopKSampler(k=5, seed=42)\n",
        "\n",
        "# compile the model and generate response\n",
        "gemma_lm.compile(sampler=sampler)\n",
        "print(gemma_lm.generate(prompt, max_length=400))"
      ],
      "metadata": {
        "colab": {
          "base_uri": "https://localhost:8080/"
        },
        "id": "Wox5sNgAU8PW",
        "outputId": "b755b7e5-b17a-4978-ae9a-8a9ce4ad6a57"
      },
      "execution_count": 28,
      "outputs": [
        {
          "output_type": "stream",
          "name": "stdout",
          "text": [
            "Instruction:\n",
            "What should I do on a trip to Breckenridge, Colorado?\n",
            "\n",
            "Response:\n",
            "You should go to the Breckenridge Ski Area and take a ride on the Peak 8 Express Gondola. You can see the entire Breckenridge ski area from the top and you can see all the runs that they have there. You can also take a ride on the Breck Mountain Express Gondola, which takes you to the top of Peak 8. You can go to the top of Peak 8 and take a ride on the Peak 8 Gondola. You can take a ride on the Peak 8 Lift and then go to the top of Peak 10. You can ride the Breckenridge Ski Area Express Gondola to go to the top of the mountain, and then you can ride the Peak 10 Gondola.\n",
            "\n",
            "Breckenridge Ski Resort has a lot of great runs, so you can take a ride up the Peak 8 Express Gondola and then take a lift down the mountain to go to the top of the mountain. You can then take a ride on the Peak 10 Gondola, which will take you to the top of the Peak 10 mountain.\n",
            "\n",
            "If you're looking for a place to stay in Breckinridge, Colorado, you should look into staying at the Breckinridge Mountain Lodge.\n",
            "\n",
            "The Breckinridge Mountain lodge is a great place to go skiing or snowboarding. The lodge is located at the base of the Peak 8 ski area, and it offers great views of the surrounding mountains.\n",
            "\n",
            "Breckenridge Ski Resort is one of the best ski resorts in the United States, and it has a wide variety of terrain to choose from. Whether you're looking for a challenging slope or a gentle slope, you can find it at Breckenridge.\n",
            "\n",
            "The Breckenridge Ski Area has a wide variety of runs and lifts to choose from, so you're sure to\n"
          ]
        }
      ]
    },
    {
      "cell_type": "markdown",
      "source": [
        "Test #2 - Scientific related prompt"
      ],
      "metadata": {
        "id": "pmnF6pt8dNsk"
      }
    },
    {
      "cell_type": "code",
      "source": [
        "## create prompt\n",
        "prompt = template.format(\n",
        "    instruction=\"Please explain what stable diffusion is as if I were a 5th grader. In 3 bullet points.\",\n",
        "    response=\"\",\n",
        ")\n",
        "## we will use the TopP sampler\n",
        "sampler = keras_nlp.samplers.TopPSampler(p=0.7, k=1_000)\n",
        "## compile model, generate response\n",
        "gemma_lm.compile(sampler=sampler)\n",
        "print(gemma_lm.generate(prompt, max_length=300))"
      ],
      "metadata": {
        "colab": {
          "base_uri": "https://localhost:8080/"
        },
        "id": "bvCKXppMc4m4",
        "outputId": "643ee853-d451-448b-b177-3396c3f9f8e4"
      },
      "execution_count": 31,
      "outputs": [
        {
          "output_type": "stream",
          "name": "stdout",
          "text": [
            "Instruction:\n",
            "Please explain what stable diffusion is as if I were a 5th grader. In 3 bullet points.\n",
            "\n",
            "Response:\n",
            "Stable diffusion is a deep learning model that generates realistic images based on a description. It uses a convolutional neural network to generate high-resolution images that can be used for a variety of applications, including art creation, image manipulation, and more. The model uses a generative adversarial network (GAN) to train itself to generate more realistic images, and is trained on a large dataset of images. The resulting images are typically of high quality and can be used for a variety of purposes, including artistic creation and image manipulation.\n",
            "\n",
            "The stability of the diffusion process is a critical aspect of the model, as it ensures that the generated images are consistent and coherent. The model is also trained on a large variety of images, which helps to ensure that it can generate a wide range of realistic images. Additionally, the model is trained using a GAN, which helps to ensure that the generated images are realistic and high-quality.\n",
            "\n",
            "The use of a convolutional neural network (CNN) helps to ensure that the generated images are high-quality and realistic. The CNN helps to identify patterns in the input data, which helps to ensure that the generated images are consistent and coherent. Additionally, the model is trained using a GAN, which helps to ensure that the generated images are realistic and high-quality.\n",
            "\n",
            "The model is also trained using a large variety of images, which helps\n"
          ]
        }
      ]
    },
    {
      "cell_type": "markdown",
      "source": [
        "Summary\n",
        "* So we can see the foundation model without fine-tuning has general capabilities but now we will fine-tune the model to get more specific task oriented outputs."
      ],
      "metadata": {
        "id": "BPcuFzarefYb"
      }
    },
    {
      "cell_type": "markdown",
      "source": [
        "# LoRA Fine-Tuning Gemma-2b LLM\n",
        "* In order to get more refined outputs from the Gemma model, we will use Low Rank Adaptation (LoRA) to fine tune the model using the Dataset I loaded above.\n",
        "* LoRA rank will determine the dimensionality of trainable matrices that are added during the training process which controls the precision and expressiveness of fine-tuning adjustments needed.\n",
        "* LoRA uses matrix decomposition to decompose the matrix into smaller components similar to SVD.\n",
        "  * LoRA tracks the changes of a model and updates the final weights for fine-tuning making the process more computationally efficient.\n",
        "* In short:\n",
        "  * A HIGER RANK matrix results in:\n",
        "    * MORE DETAILED changes\n",
        "    * MORE TRAINABLE parameters\n",
        "    * LESS computational overhead\n",
        "* However, Less accuracy and precision is also possible because we are only training a small percentage of the model parameters."
      ],
      "metadata": {
        "id": "2xtL2FW6eqlG"
      }
    },
    {
      "cell_type": "markdown",
      "source": [
        "## How to choose LoRA parameters?\n",
        "\n",
        "### 1. Rank (r)\n",
        "* There is not \"magic number\" for LoRA, but most people go off the **orignal LoRA paper which used `r=8` and works for most problems and might be called the \"sweet spot\".**\n",
        "* Two things to remember:\n",
        "  1. If your dataset is significantly different and more complex compared to the dataset on which the model was pretrained, then it is best practice to use a HIGH rank value:\n",
        "    * e.g. `64–256`\n",
        "\n",
        "  2. If the problem you’re adapting a pre-trained model to, is relatively simple and doesn’t involve a complex new dataset that the model hasn’t encountered before, it is best practice to use LOWER rank values:\n",
        "    * e.g. `4-12`\n",
        "\n",
        "* These experiments from lightning.ai show that increasing Rank value doesn't seem to do much if the the problem you are solving is not very complex:\n",
        "\n",
        "![image.png](data:image/png;base64,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)"
      ],
      "metadata": {
        "id": "UHjwNwTJgx80"
      }
    },
    {
      "cell_type": "markdown",
      "source": [
        "### 2. Alpha (a)\n",
        "* General rule of thumb about alpha:\n",
        "  1. HIGHER “alpha” would place more emphasis on the low-rank structure or regularization\n",
        "  2. LOWER “alpha” would reduce its influence, making the model rely more on the original parameters.\n",
        "\n",
        "* Adjusting “alpha” helps in finding a balance between fitting the data and preventing overfitting by regularizing the model.\n",
        "\n",
        "#### How do we decide a good Alpha for your problem?\n",
        "* Usually we choose an alpha value that is **twice as large as the rank when fine-tuning LLMs** (note that this is different when working with diffusion models).\n",
        "\n",
        "* In the original LoRA paper, the authors use `α=16` for their experiments.\n",
        "\n",
        "\n",
        "* Sources:\n",
        "  * https://medium.com/@tayyibgondal2003/loralow-rank-adaptation-of-large-language-models-33f9d9d48984\n",
        "  * https://arxiv.org/abs/2106.09685\n"
      ],
      "metadata": {
        "id": "aSgQAw_ziVC2"
      }
    },
    {
      "cell_type": "markdown",
      "source": [
        "## Setup LoRa and Rank\n",
        "* Here we will choose a low rank of 4 as our fine-tuning task is \"not that complex\"."
      ],
      "metadata": {
        "id": "5Ho7uOKNjmpe"
      }
    },
    {
      "cell_type": "code",
      "source": [
        "## 1. enable LoRA for model and set LoRA rank to 4\n",
        "gemma_lm.backbone.enable_lora(rank=4)\n",
        "gemma_lm.summary()"
      ],
      "metadata": {
        "colab": {
          "base_uri": "https://localhost:8080/",
          "height": 388
        },
        "id": "YFs02JyreD8D",
        "outputId": "f6eddc88-6e6d-41a2-e34c-01f2c7739549"
      },
      "execution_count": 32,
      "outputs": [
        {
          "output_type": "display_data",
          "data": {
            "text/plain": [
              "\u001b[1mPreprocessor: \"gemma_causal_lm_preprocessor\"\u001b[0m\n"
            ],
            "text/html": [
              "<pre style=\"white-space:pre;overflow-x:auto;line-height:normal;font-family:Menlo,'DejaVu Sans Mono',consolas,'Courier New',monospace\"><span style=\"font-weight: bold\">Preprocessor: \"gemma_causal_lm_preprocessor\"</span>\n",
              "</pre>\n"
            ]
          },
          "metadata": {}
        },
        {
          "output_type": "display_data",
          "data": {
            "text/plain": [
              "┏━━━━━━━━━━━━━━━━━━━━━━━━━━━━━━━━━━━━━━━━━━━━━━━━━━━━━━━━━━━━━━━┳━━━━━━━━━━━━━━━━━━━━━━━━━━━━━━━━━━━━━━━━━━┓\n",
              "┃\u001b[1m \u001b[0m\u001b[1mLayer (type)                                                 \u001b[0m\u001b[1m \u001b[0m┃\u001b[1m \u001b[0m\u001b[1m                                  Config\u001b[0m\u001b[1m \u001b[0m┃\n",
              "┡━━━━━━━━━━━━━━━━━━━━━━━━━━━━━━━━━━━━━━━━━━━━━━━━━━━━━━━━━━━━━━━╇━━━━━━━━━━━━━━━━━━━━━━━━━━━━━━━━━━━━━━━━━━┩\n",
              "│ gemma_tokenizer (\u001b[38;5;33mGemmaTokenizer\u001b[0m)                              │                      Vocab size: \u001b[38;5;34m256,000\u001b[0m │\n",
              "└───────────────────────────────────────────────────────────────┴──────────────────────────────────────────┘\n"
            ],
            "text/html": [
              "<pre style=\"white-space:pre;overflow-x:auto;line-height:normal;font-family:Menlo,'DejaVu Sans Mono',consolas,'Courier New',monospace\">┏━━━━━━━━━━━━━━━━━━━━━━━━━━━━━━━━━━━━━━━━━━━━━━━━━━━━━━━━━━━━━━━┳━━━━━━━━━━━━━━━━━━━━━━━━━━━━━━━━━━━━━━━━━━┓\n",
              "┃<span style=\"font-weight: bold\"> Layer (type)                                                  </span>┃<span style=\"font-weight: bold\">                                   Config </span>┃\n",
              "┡━━━━━━━━━━━━━━━━━━━━━━━━━━━━━━━━━━━━━━━━━━━━━━━━━━━━━━━━━━━━━━━╇━━━━━━━━━━━━━━━━━━━━━━━━━━━━━━━━━━━━━━━━━━┩\n",
              "│ gemma_tokenizer (<span style=\"color: #0087ff; text-decoration-color: #0087ff\">GemmaTokenizer</span>)                              │                      Vocab size: <span style=\"color: #00af00; text-decoration-color: #00af00\">256,000</span> │\n",
              "└───────────────────────────────────────────────────────────────┴──────────────────────────────────────────┘\n",
              "</pre>\n"
            ]
          },
          "metadata": {}
        },
        {
          "output_type": "display_data",
          "data": {
            "text/plain": [
              "\u001b[1mModel: \"gemma_causal_lm\"\u001b[0m\n"
            ],
            "text/html": [
              "<pre style=\"white-space:pre;overflow-x:auto;line-height:normal;font-family:Menlo,'DejaVu Sans Mono',consolas,'Courier New',monospace\"><span style=\"font-weight: bold\">Model: \"gemma_causal_lm\"</span>\n",
              "</pre>\n"
            ]
          },
          "metadata": {}
        },
        {
          "output_type": "display_data",
          "data": {
            "text/plain": [
              "┏━━━━━━━━━━━━━━━━━━━━━━━━━━━━━━━┳━━━━━━━━━━━━━━━━━━━━━━━━━━━┳━━━━━━━━━━━━━━━━━┳━━━━━━━━━━━━━━━━━━━━━━━━━━━━┓\n",
              "┃\u001b[1m \u001b[0m\u001b[1mLayer (type)                 \u001b[0m\u001b[1m \u001b[0m┃\u001b[1m \u001b[0m\u001b[1mOutput Shape             \u001b[0m\u001b[1m \u001b[0m┃\u001b[1m \u001b[0m\u001b[1m        Param #\u001b[0m\u001b[1m \u001b[0m┃\u001b[1m \u001b[0m\u001b[1mConnected to              \u001b[0m\u001b[1m \u001b[0m┃\n",
              "┡━━━━━━━━━━━━━━━━━━━━━━━━━━━━━━━╇━━━━━━━━━━━━━━━━━━━━━━━━━━━╇━━━━━━━━━━━━━━━━━╇━━━━━━━━━━━━━━━━━━━━━━━━━━━━┩\n",
              "│ padding_mask (\u001b[38;5;33mInputLayer\u001b[0m)     │ (\u001b[38;5;45mNone\u001b[0m, \u001b[38;5;45mNone\u001b[0m)              │               \u001b[38;5;34m0\u001b[0m │ -                          │\n",
              "├───────────────────────────────┼───────────────────────────┼─────────────────┼────────────────────────────┤\n",
              "│ token_ids (\u001b[38;5;33mInputLayer\u001b[0m)        │ (\u001b[38;5;45mNone\u001b[0m, \u001b[38;5;45mNone\u001b[0m)              │               \u001b[38;5;34m0\u001b[0m │ -                          │\n",
              "├───────────────────────────────┼───────────────────────────┼─────────────────┼────────────────────────────┤\n",
              "│ gemma_backbone                │ (\u001b[38;5;45mNone\u001b[0m, \u001b[38;5;45mNone\u001b[0m, \u001b[38;5;34m2048\u001b[0m)        │   \u001b[38;5;34m2,507,536,384\u001b[0m │ padding_mask[\u001b[38;5;34m0\u001b[0m][\u001b[38;5;34m0\u001b[0m],        │\n",
              "│ (\u001b[38;5;33mGemmaBackbone\u001b[0m)               │                           │                 │ token_ids[\u001b[38;5;34m0\u001b[0m][\u001b[38;5;34m0\u001b[0m]            │\n",
              "├───────────────────────────────┼───────────────────────────┼─────────────────┼────────────────────────────┤\n",
              "│ token_embedding               │ (\u001b[38;5;45mNone\u001b[0m, \u001b[38;5;45mNone\u001b[0m, \u001b[38;5;34m256000\u001b[0m)      │     \u001b[38;5;34m524,288,000\u001b[0m │ gemma_backbone[\u001b[38;5;34m0\u001b[0m][\u001b[38;5;34m0\u001b[0m]       │\n",
              "│ (\u001b[38;5;33mReversibleEmbedding\u001b[0m)         │                           │                 │                            │\n",
              "└───────────────────────────────┴───────────────────────────┴─────────────────┴────────────────────────────┘\n"
            ],
            "text/html": [
              "<pre style=\"white-space:pre;overflow-x:auto;line-height:normal;font-family:Menlo,'DejaVu Sans Mono',consolas,'Courier New',monospace\">┏━━━━━━━━━━━━━━━━━━━━━━━━━━━━━━━┳━━━━━━━━━━━━━━━━━━━━━━━━━━━┳━━━━━━━━━━━━━━━━━┳━━━━━━━━━━━━━━━━━━━━━━━━━━━━┓\n",
              "┃<span style=\"font-weight: bold\"> Layer (type)                  </span>┃<span style=\"font-weight: bold\"> Output Shape              </span>┃<span style=\"font-weight: bold\">         Param # </span>┃<span style=\"font-weight: bold\"> Connected to               </span>┃\n",
              "┡━━━━━━━━━━━━━━━━━━━━━━━━━━━━━━━╇━━━━━━━━━━━━━━━━━━━━━━━━━━━╇━━━━━━━━━━━━━━━━━╇━━━━━━━━━━━━━━━━━━━━━━━━━━━━┩\n",
              "│ padding_mask (<span style=\"color: #0087ff; text-decoration-color: #0087ff\">InputLayer</span>)     │ (<span style=\"color: #00d7ff; text-decoration-color: #00d7ff\">None</span>, <span style=\"color: #00d7ff; text-decoration-color: #00d7ff\">None</span>)              │               <span style=\"color: #00af00; text-decoration-color: #00af00\">0</span> │ -                          │\n",
              "├───────────────────────────────┼───────────────────────────┼─────────────────┼────────────────────────────┤\n",
              "│ token_ids (<span style=\"color: #0087ff; text-decoration-color: #0087ff\">InputLayer</span>)        │ (<span style=\"color: #00d7ff; text-decoration-color: #00d7ff\">None</span>, <span style=\"color: #00d7ff; text-decoration-color: #00d7ff\">None</span>)              │               <span style=\"color: #00af00; text-decoration-color: #00af00\">0</span> │ -                          │\n",
              "├───────────────────────────────┼───────────────────────────┼─────────────────┼────────────────────────────┤\n",
              "│ gemma_backbone                │ (<span style=\"color: #00d7ff; text-decoration-color: #00d7ff\">None</span>, <span style=\"color: #00d7ff; text-decoration-color: #00d7ff\">None</span>, <span style=\"color: #00af00; text-decoration-color: #00af00\">2048</span>)        │   <span style=\"color: #00af00; text-decoration-color: #00af00\">2,507,536,384</span> │ padding_mask[<span style=\"color: #00af00; text-decoration-color: #00af00\">0</span>][<span style=\"color: #00af00; text-decoration-color: #00af00\">0</span>],        │\n",
              "│ (<span style=\"color: #0087ff; text-decoration-color: #0087ff\">GemmaBackbone</span>)               │                           │                 │ token_ids[<span style=\"color: #00af00; text-decoration-color: #00af00\">0</span>][<span style=\"color: #00af00; text-decoration-color: #00af00\">0</span>]            │\n",
              "├───────────────────────────────┼───────────────────────────┼─────────────────┼────────────────────────────┤\n",
              "│ token_embedding               │ (<span style=\"color: #00d7ff; text-decoration-color: #00d7ff\">None</span>, <span style=\"color: #00d7ff; text-decoration-color: #00d7ff\">None</span>, <span style=\"color: #00af00; text-decoration-color: #00af00\">256000</span>)      │     <span style=\"color: #00af00; text-decoration-color: #00af00\">524,288,000</span> │ gemma_backbone[<span style=\"color: #00af00; text-decoration-color: #00af00\">0</span>][<span style=\"color: #00af00; text-decoration-color: #00af00\">0</span>]       │\n",
              "│ (<span style=\"color: #0087ff; text-decoration-color: #0087ff\">ReversibleEmbedding</span>)         │                           │                 │                            │\n",
              "└───────────────────────────────┴───────────────────────────┴─────────────────┴────────────────────────────┘\n",
              "</pre>\n"
            ]
          },
          "metadata": {}
        },
        {
          "output_type": "display_data",
          "data": {
            "text/plain": [
              "\u001b[1m Total params: \u001b[0m\u001b[38;5;34m2,507,536,384\u001b[0m (9.34 GB)\n"
            ],
            "text/html": [
              "<pre style=\"white-space:pre;overflow-x:auto;line-height:normal;font-family:Menlo,'DejaVu Sans Mono',consolas,'Courier New',monospace\"><span style=\"font-weight: bold\"> Total params: </span><span style=\"color: #00af00; text-decoration-color: #00af00\">2,507,536,384</span> (9.34 GB)\n",
              "</pre>\n"
            ]
          },
          "metadata": {}
        },
        {
          "output_type": "display_data",
          "data": {
            "text/plain": [
              "\u001b[1m Trainable params: \u001b[0m\u001b[38;5;34m1,363,968\u001b[0m (5.20 MB)\n"
            ],
            "text/html": [
              "<pre style=\"white-space:pre;overflow-x:auto;line-height:normal;font-family:Menlo,'DejaVu Sans Mono',consolas,'Courier New',monospace\"><span style=\"font-weight: bold\"> Trainable params: </span><span style=\"color: #00af00; text-decoration-color: #00af00\">1,363,968</span> (5.20 MB)\n",
              "</pre>\n"
            ]
          },
          "metadata": {}
        },
        {
          "output_type": "display_data",
          "data": {
            "text/plain": [
              "\u001b[1m Non-trainable params: \u001b[0m\u001b[38;5;34m2,506,172,416\u001b[0m (9.34 GB)\n"
            ],
            "text/html": [
              "<pre style=\"white-space:pre;overflow-x:auto;line-height:normal;font-family:Menlo,'DejaVu Sans Mono',consolas,'Courier New',monospace\"><span style=\"font-weight: bold\"> Non-trainable params: </span><span style=\"color: #00af00; text-decoration-color: #00af00\">2,506,172,416</span> (9.34 GB)\n",
              "</pre>\n"
            ]
          },
          "metadata": {}
        }
      ]
    },
    {
      "cell_type": "markdown",
      "source": [
        "By enabling LoRA we reduced the number of trainable parameters from 2.5 billion to 1.3 million.\n",
        "\n",
        "\n",
        "### Note about optimizer:\n",
        "* We will use AdamW which is most commonly used for Generative LLM models.\n",
        "* This is NOT the same as Adam optimizer.\n",
        "  * Adam optimizer\n",
        "    * weight decay is applied indirectly as part of the gradient update, which can unintentionally modify the learning dynamics and interfere with the optimization process.\n",
        "  * AdamW\n",
        "    * separates weight decay from the gradient step, ensuring regularization directly impacts the parameters without altering the adaptive learning mechanism.\n",
        "\n",
        "* AdamW's design leads to **more precise regularization, helping models generalize better, particularly in tasks that involve large and complex datasets.***\n",
        "* Thus it is important to remember that the two optimizers have very different use cases.\n",
        "* [Good Review Article on Adam vs. AdamW](https://www.datacamp.com/tutorial/adamw-optimizer-in-pytorch)\n",
        "\n",
        "\n",
        "### Note about Learning Rate\n",
        "* A learning rate of 1e-4 has become the standard when fine-tuning LLMs with LoRA.\n",
        "* Lowering the learning rate to 3e-5 or 5e-5 can stabilize training loss instabilities.\n",
        "  * The goal is ultimately to prevent the loss from jumping up and down or wavering each time the model weights are updated during backpropagation of the neural network.\n",
        "\n"
      ],
      "metadata": {
        "id": "hzLXJDMOj_qH"
      }
    },
    {
      "cell_type": "code",
      "source": [
        "## 2. Limit input sequence length to 512 (reduce memory usage)\n",
        "gemma_lm.preprocessor.sequence_length = 512\n",
        "\n",
        "## 3. Use AdamW optimizer -- most common optimizer\n",
        "optimizer = keras.optimizers.AdamW(\n",
        "    learning_rate=5e-5,\n",
        "    weight_decay=0.01,\n",
        ")\n",
        "# 4. Exclude layernorm and bias terms from decay\n",
        "optimizer.exclude_from_weight_decay(var_names=[\"bias\",\"scale\"])\n",
        "\n",
        "\n",
        "# 5. Compile the model --\n",
        "## 2 or more label classes use SparseCategoricalCrossEntropy\n",
        "## We have 8 classes in the fine-tuning dataset\n",
        "gemma_lm.compile(\n",
        "    loss=keras.losses.SparseCategoricalCrossentropy(from_logits=True),\n",
        "    optimizer=optimizer,\n",
        "    weighted_metrics=[keras.metrics.SparseCategoricalAccuracy()],\n",
        ")\n",
        "# 5. Fit model\n",
        "gemma_lm.fit(data, epochs=1, batch_size=1)"
      ],
      "metadata": {
        "colab": {
          "base_uri": "https://localhost:8080/"
        },
        "id": "mV-3sREWj673",
        "outputId": "961ddc87-abce-4727-9e24-9c60f9103de1"
      },
      "execution_count": 34,
      "outputs": [
        {
          "output_type": "stream",
          "name": "stdout",
          "text": [
            "\u001b[1m1000/1000\u001b[0m \u001b[32m━━━━━━━━━━━━━━━━━━━━\u001b[0m\u001b[37m\u001b[0m \u001b[1m1403s\u001b[0m 1s/step - loss: 0.4585 - sparse_categorical_accuracy: 0.5238\n"
          ]
        },
        {
          "output_type": "execute_result",
          "data": {
            "text/plain": [
              "<keras.src.callbacks.history.History at 0x78eb2c677550>"
            ]
          },
          "metadata": {},
          "execution_count": 34
        }
      ]
    },
    {
      "cell_type": "markdown",
      "source": [
        "# Note on mixed precision fine-tuning on NVIDIA GPUs\n",
        "* Full precision is recommended for fine-tuning.\n",
        "* When fine-tuning on NVIDIA GPUs, you can use mixed precision:\n",
        "  * `keras.mixed_precision.set_global_policy('mixed_bfloat16')`\n",
        "  * This will speed up training with minimal effect on overall training quality.\n",
        "* Mixed precision fine-tuning does consume MORE MEMORY so us useful ONLY WITH LARGE GPUs.\n",
        "\n",
        "For inference, half-precision(`keras.config.set_floatx(\"bfloat16\")`) will work and save memory."
      ],
      "metadata": {
        "id": "zHvxC8WSpNSn"
      }
    },
    {
      "cell_type": "code",
      "source": [
        "## if you want to enable mixed precision training for GPUs\n",
        "# keras.mixed_precision.set_global_policy('mixed_bfloat16')"
      ],
      "metadata": {
        "id": "bk_6NU9GowNh"
      },
      "execution_count": 35,
      "outputs": []
    },
    {
      "cell_type": "markdown",
      "source": [
        "# Inference on Fine-Tuned Model\n",
        "* Now that the model is fine-tuned, let's try to run inference using the original prompts we used above and evaluate the outputs."
      ],
      "metadata": {
        "id": "Lm_QONt_qJiz"
      }
    },
    {
      "cell_type": "markdown",
      "source": [
        "## Test Prompt #1 -- Vacation Question"
      ],
      "metadata": {
        "id": "V673rFI6qsCm"
      }
    },
    {
      "cell_type": "code",
      "source": [
        "## Test Prompt #1 -- Vacation Question\n",
        "prompt = template.format(\n",
        "    instruction=\"What should I do on a trip to Breckenridge, Colorado?\",\n",
        "    response=\"\",\n",
        ")\n",
        "\n",
        "sampler = keras_nlp.samplers.TopKSampler(k=5, seed=42)\n",
        "\n",
        "# compile the model and generate response\n",
        "gemma_lm.compile(sampler=sampler)\n",
        "print(gemma_lm.generate(prompt, max_length=400))"
      ],
      "metadata": {
        "colab": {
          "base_uri": "https://localhost:8080/"
        },
        "id": "lyA10PspqHuO",
        "outputId": "03b20262-f8d0-47e0-b7cd-fcec182ad8b6"
      },
      "execution_count": 36,
      "outputs": [
        {
          "output_type": "stream",
          "name": "stdout",
          "text": [
            "Instruction:\n",
            "What should I do on a trip to Breckenridge, Colorado?\n",
            "\n",
            "Response:\n",
            "Breckenridge is a great place for outdoor enthusiasts to explore. There are many different activities you can do there, such as hiking, biking, skiing, and more. If you are looking for a more relaxing vacation, the town is also home to many spas and wellness centers. You could also visit the Breckenridge Museum of Mining and Science for a fascinating look at the history of mining in the area.\n"
          ]
        }
      ]
    },
    {
      "cell_type": "markdown",
      "source": [
        "## Test Prompt #2 -- Vacation Question"
      ],
      "metadata": {
        "id": "XhDxF_i4qwxE"
      }
    },
    {
      "cell_type": "code",
      "source": [
        "## Test Prompt #2 -- Vacation Question\n",
        "prompt = template.format(\n",
        "    instruction=\"Please explain what stable diffusion is as if I were a 5th grader. In 3 bullet points.\",\n",
        "    response=\"\",\n",
        ")\n",
        "\n",
        "sampler = keras_nlp.samplers.TopKSampler(k=5, seed=42)\n",
        "\n",
        "# compile the model and generate response\n",
        "gemma_lm.compile(sampler=sampler)\n",
        "print(gemma_lm.generate(prompt, max_length=400))"
      ],
      "metadata": {
        "colab": {
          "base_uri": "https://localhost:8080/"
        },
        "id": "GrfP7TREqijM",
        "outputId": "19121137-ef4b-408c-f860-102b94596a04"
      },
      "execution_count": 37,
      "outputs": [
        {
          "output_type": "stream",
          "name": "stdout",
          "text": [
            "Instruction:\n",
            "Please explain what stable diffusion is as if I were a 5th grader. In 3 bullet points.\n",
            "\n",
            "Response:\n",
            "Stable diffusion is a machine learning algorithm that uses deep learning and artificial intelligence to generate high-quality images. The algorithm uses a large database of images to train itself to recognize patterns and create new images based on those patterns.\n",
            "\n",
            "Stable diffusion is often used to create realistic images of people, landscapes, and other objects. It can be used to create high-quality images for marketing, advertising, and other purposes.\n"
          ]
        }
      ]
    },
    {
      "cell_type": "markdown",
      "source": [
        "Summary\n",
        "* We can see the outputs were more succint and precise than without fine-tuning the model."
      ],
      "metadata": {
        "id": "RNQt_OPIvtRK"
      }
    },
    {
      "cell_type": "markdown",
      "source": [
        "# Additional Things to try\n",
        "1. Increase size of fine-tuning dataset\n",
        "2. Train on more Epochs\n",
        "3. Set LoRA rank higher than 4 and compare results.\n",
        "4. Modify hyperparameters such as:\n",
        "  * `learning_rate`\n",
        "  * `weight_decay`\n",
        "  * other params in Keras: https://keras.io/api/optimizers/adamw/"
      ],
      "metadata": {
        "id": "KtPSLAn2rIdW"
      }
    },
    {
      "cell_type": "code",
      "source": [],
      "metadata": {
        "id": "LXo1VLSMsT7V"
      },
      "execution_count": null,
      "outputs": []
    }
  ]
}